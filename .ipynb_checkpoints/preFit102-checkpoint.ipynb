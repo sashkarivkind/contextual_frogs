{
 "cells": [
  {
   "cell_type": "code",
   "execution_count": 1,
   "metadata": {
    "executionInfo": {
     "elapsed": 2926,
     "status": "ok",
     "timestamp": 1729694443927,
     "user": {
      "displayName": "Alexander Rivkind",
      "userId": "10002507018830873377"
     },
     "user_tz": -180
    },
    "id": "GsCDb1ZrwV9Z"
   },
   "outputs": [
    {
     "name": "stderr",
     "output_type": "stream",
     "text": [
      "/opt/conda/lib/python3.8/site-packages/tqdm/auto.py:22: TqdmWarning: IProgress not found. Please update jupyter and ipywidgets. See https://ipywidgets.readthedocs.io/en/stable/user_install.html\n",
      "  from .autonotebook import tqdm as notebook_tqdm\n"
     ]
    }
   ],
   "source": [
    "from __future__ import absolute_import\n",
    "import importlib\n",
    "\n",
    "from copy import copy\n",
    "\n",
    "import numpy as np\n",
    "import torch\n",
    "import torch.nn as nn\n",
    "import torch.optim as optim\n",
    "\n",
    "from types import SimpleNamespace\n",
    "\n",
    "import matplotlib.pyplot as plt\n",
    "from models import MLP, OneOverSqr\n",
    "from dsp_utils import seg_time\n",
    "from siggen_utils import herzfeld_block\n",
    "from plt_utils import plot_by_key,plot_segments\n",
    "\n",
    "from runners import Runner\n"
   ]
  },
  {
   "cell_type": "code",
   "execution_count": 2,
   "metadata": {
    "executionInfo": {
     "elapsed": 984,
     "status": "ok",
     "timestamp": 1729696413364,
     "user": {
      "displayName": "Alexander Rivkind",
      "userId": "10002507018830873377"
     },
     "user_tz": -180
    },
    "id": "ONM_K7ZuC_C1"
   },
   "outputs": [],
   "source": [
    "P0=0\n",
    "Pplus=1\n",
    "Pminus=-1\n",
    "Pchannel=np.nan\n",
    "\n",
    "TfN1 = 100\n",
    "TfA = 300\n",
    "TfN2 = 100\n",
    "\n",
    "TsN=60\n",
    "TsA=120\n",
    "TsB=20\n",
    "TsC=20\n",
    "\n",
    "# T=300\n",
    "TaN=150\n",
    "TaB=120+500\n",
    "\n",
    "playlist = {\n",
    "'frogs': [(P0,TfN1),((P0,Pplus),TfA),(P0,TfN2)],\n",
    "'anti_frogs': [(P0,TfN1),(Pplus,TfA),(P0,TfN2)],\n",
    "'savings': 2 * [(P0, TsN), (Pplus, TsA), (Pminus, TsB), (Pchannel, TsC)],\n",
    "'sprecovery': [(P0, 50),\n",
    "               (Pplus, 120),\n",
    "               (Pminus, 15),\n",
    "               (Pchannel, 150)],\n",
    "# 'spOVRrecovery': [(P0, 192),\n",
    "#                (Pplus, 1000),\n",
    "#                (Pminus, 20),\n",
    "#                (Pchannel, 400)],\n",
    "'evrecovery': [(P0, 50),\n",
    "               (Pplus, 120),\n",
    "               (Pminus, 15),\n",
    "               (Pchannel, 2),\n",
    "               (Pplus, 2),\n",
    "               (Pchannel, 146)],\n",
    "# 'lng_recovery': [(P0, 192),\n",
    "#                (Pplus, 384),\n",
    "#                (Pminus, 384),\n",
    "#                (Pchannel, 400)],    \n",
    "'AB0':[(P0, TaN),(Pminus, TaB)],\n",
    "'AB1':[(P0, TaN),(Pplus,13),(Pminus, TaB)],\n",
    "'AB2':[(P0, TaN),(Pplus,41),(Pminus, TaB)],\n",
    "'AB3':[(P0, TaN),(Pplus,112),(Pminus, TaB)],\n",
    "'ANB0':[(P0, TaN),(Pminus, TaB)],\n",
    "'ANB1':[(P0, TaN),(Pplus,13),(P0, TaB),(Pminus, TaB)],\n",
    "'ANB2':[(P0, TaN),(Pplus,41),(P0, TaB),(Pminus, TaB)],\n",
    "'ANB3':[(P0, TaN),(Pplus,112),(P0, TaB),(Pminus, TaB)],\n",
    "    }\n",
    "\n",
    "def generate_herzfeld_scenarios(z_list=None, n_blocks=None, Tflips=None): \n",
    "    out_dict = {}\n",
    "    for z in z_list:\n",
    "        scenario_name =  f'herzfeld,z={z}'\n",
    "        pert_per_z = []\n",
    "        for n in range(n_blocks):\n",
    "            hz = herzfeld_block(z, P1=Pplus,P2=Pminus,P0=P0, tau=1)\n",
    "            pert_per_z.append((hz,len(hz)))\n",
    "        out_dict.update({scenario_name:pert_per_z})\n",
    "    return out_dict\n",
    "\n",
    "hrz_params = {'z_list': [0.1,0.5,0.9], 'n_blocks': 25}\n",
    "playlist.update(generate_herzfeld_scenarios(**hrz_params))\n",
    "        "
   ]
  },
  {
   "cell_type": "code",
   "execution_count": 3,
   "metadata": {},
   "outputs": [],
   "source": [
    "def do_plots(results,playlist,figsize=(24, 12)):\n",
    "    plt.figure(figsize=figsize)\n",
    "    plt.subplot(2,3,1)\n",
    "    plot_segments(results['savings'].u_lp,\n",
    "              t_start=playlist['savings'][0][1],\n",
    "              n_segments=2,\n",
    "              t_increment=playlist['savings'][0][1]+playlist['savings'][1][1]+playlist['savings'][2][1]+playlist['savings'][3][1],\n",
    "              t_segment=playlist['savings'][1][1],             \n",
    "             )\n",
    "    plt.subplot(2,3,2)\n",
    "    plot_by_key(results, ['frogs','anti_frogs'],visu_offsets = [0, 0.00])\n",
    "    plt.xlabel('epochs')\n",
    "    plt.ylabel('u(epoch) [au]')\n",
    "    plt.subplot(2,3,3)\n",
    "    plot_by_key(results,\n",
    "                ['sprecovery','evrecovery'],\n",
    "                colors=['tab:red','tab:blue','tab:orange','tab:green'],\n",
    "                align_end=True,\n",
    "                visu_offsets=[0]*10,\n",
    "               )\n",
    "    \n",
    "    plt.subplot(2,3,4)\n",
    "    plot_by_key(results,\n",
    "                ['AB0','AB1','AB2','AB3'],\n",
    "                colors=['tab:red','tab:blue','tab:orange','tab:green'],\n",
    "                align_end=True,\n",
    "                visu_offsets=[0]*10,\n",
    "               )\n",
    "    \n",
    "    plt.subplot(2,3,5)\n",
    "    plot_by_key(results,\n",
    "                ['ANB0','ANB1','ANB2','ANB3'],\n",
    "                colors=['tab:red','tab:blue','tab:orange','tab:green'],\n",
    "                align_end=True,\n",
    "                visu_offsets=[0]*10,\n",
    "               )\n",
    "    \n",
    "    plt.subplot(2,3,6)\n",
    "    for iz, z in enumerate(hrz_params['z_list']):\n",
    "        deltas = []\n",
    "        scenario = f'herzfeld,z={z}'\n",
    "        this_result = results[scenario]\n",
    "        block_length = playlist[scenario]\n",
    "        pointer = 0\n",
    "        for bb in range(hrz_params['n_blocks']):\n",
    "            block_length = playlist[scenario][bb][-1]\n",
    "            pointer += block_length\n",
    "            deltas.append(this_result.u_lp[pointer-1]-this_result.u_lp[pointer-3])            \n",
    "\n",
    "        plt.plot(deltas,'x',label = f'z={z}')\n",
    "    plt.legend(loc='upper right')\n",
    "    plt.xlabel('block #')\n",
    "    plt.ylabel('adaptation delta channel2-channel1')"
   ]
  },
  {
   "cell_type": "code",
   "execution_count": 4,
   "metadata": {},
   "outputs": [],
   "source": [
    "# # uni_settings = {'criterion':'MSE', 'k':[0.3,0,1], 'learning_rate':0.5e-4, 'sigma_noi':0.0, 'tau_u':1, 'constancy_factor':0.5}\n",
    "# uni_settings = {'criterion':'MSE', 'k':[0.3,0,1], 'learning_rate':0.5e-4, 'sigma_noi':0.0, 'tau_u':1, 'constancy_factor':0.7}\n",
    "\n",
    "\n",
    "uni_model_construct_args =  dict(n_inputs = 3,\n",
    "                  n_hidden = 4*512,\n",
    "                  n_outs = 1,\n",
    "                  en_bias = False,\n",
    "                 b_high=5, first_layer_init='uniform_unity',\n",
    "                first_layer_weights_trainable = True,\n",
    "                  nl = lambda : OneOverSqr(w=0.5,c=-0.0), skip_gain= 0.5)\n",
    "\n",
    "uni_settings = {'criterion':'MSE', 'k':[0.3,0,1], 'learning_rate':0.5e-4, 'sigma_noi':0.0, 'tau_u':1}\n",
    "\n",
    "# uni_model_construct_args =  dict(n_inputs = 3,\n",
    "#                   n_hidden = 4*512,\n",
    "#                   n_outs = 1,\n",
    "#                   en_bias = False,\n",
    "#                  b_high=5, first_layer_init='uniform_unity',\n",
    "#                 first_layer_weights_trainable = True,\n",
    "#                   nl = 'relu', skip_gain= 0.5)\n",
    "\n",
    "test_vec= None\n",
    "# np.stack([np.linspace(-10,10,200), \n",
    "#                     np.zeros(200),\n",
    "#                     np.zeros(200)]).T"
   ]
  },
  {
   "cell_type": "code",
   "execution_count": 5,
   "metadata": {},
   "outputs": [],
   "source": [
    "uni_runner = Runner(model_construct_args=uni_model_construct_args,\n",
    "                test_vec=test_vec,\n",
    "                **uni_settings)"
   ]
  },
  {
   "cell_type": "code",
   "execution_count": 6,
   "metadata": {},
   "outputs": [
    {
     "name": "stdout",
     "output_type": "stream",
     "text": [
      "running scenario: frogs\n"
     ]
    },
    {
     "ename": "RuntimeError",
     "evalue": "Expected all tensors to be on the same device, but found at least two devices, cuda:0 and cpu!",
     "output_type": "error",
     "traceback": [
      "\u001b[0;31m---------------------------------------------------------------------------\u001b[0m",
      "\u001b[0;31mRuntimeError\u001b[0m                              Traceback (most recent call last)",
      "Input \u001b[0;32mIn [6]\u001b[0m, in \u001b[0;36m<cell line: 1>\u001b[0;34m()\u001b[0m\n\u001b[0;32m----> 1\u001b[0m uni_results \u001b[38;5;241m=\u001b[39m \u001b[43muni_runner\u001b[49m\u001b[38;5;241;43m.\u001b[39;49m\u001b[43mrun_multiple\u001b[49m\u001b[43m(\u001b[49m\u001b[43mplaylist\u001b[49m\u001b[43m)\u001b[49m\n",
      "File \u001b[0;32m~/one_more_dir/one_more_dir/contextual_frogs/runners.py:289\u001b[0m, in \u001b[0;36mRunner.run_multiple\u001b[0;34m(self, playlist, test_vec, extra_measurements, silent)\u001b[0m\n\u001b[1;32m    281\u001b[0m         \u001b[38;5;28mprint\u001b[39m(\u001b[38;5;124mf\u001b[39m\u001b[38;5;124m'\u001b[39m\u001b[38;5;124mrunning scenario: \u001b[39m\u001b[38;5;132;01m{\u001b[39;00mname\u001b[38;5;132;01m}\u001b[39;00m\u001b[38;5;124m'\u001b[39m)\n\u001b[1;32m    283\u001b[0m     \u001b[38;5;66;03m#todo: remove this block after validation\u001b[39;00m\n\u001b[1;32m    284\u001b[0m     \u001b[38;5;66;03m# if type(scenario) == list:\u001b[39;00m\n\u001b[1;32m    285\u001b[0m     \u001b[38;5;66;03m#     to_play = parse_samples(scenario)\u001b[39;00m\n\u001b[1;32m    286\u001b[0m     \u001b[38;5;66;03m# else:\u001b[39;00m\n\u001b[1;32m    287\u001b[0m     \u001b[38;5;66;03m#     raise NotImplementedError #in future we will also support parsed lists\u001b[39;00m\n\u001b[0;32m--> 289\u001b[0m     results[name], _model \u001b[38;5;241m=\u001b[39m \u001b[38;5;28;43mself\u001b[39;49m\u001b[38;5;241;43m.\u001b[39;49m\u001b[43mrun\u001b[49m\u001b[43m(\u001b[49m\u001b[43mscenario\u001b[49m\u001b[43m,\u001b[49m\u001b[43mtest_vec\u001b[49m\u001b[38;5;241;43m=\u001b[39;49m\u001b[43mtest_vec\u001b[49m\u001b[43m,\u001b[49m\u001b[43mextra_measurements\u001b[49m\u001b[38;5;241;43m=\u001b[39;49m\u001b[43mextra_measurements\u001b[49m\u001b[43m)\u001b[49m\n\u001b[1;32m    290\u001b[0m \u001b[38;5;28;01mreturn\u001b[39;00m results\n",
      "File \u001b[0;32m~/one_more_dir/one_more_dir/contextual_frogs/runners.py:252\u001b[0m, in \u001b[0;36mRunner.run\u001b[0;34m(self, scenario, do_return, test_vec, extra_measurements)\u001b[0m\n\u001b[1;32m    250\u001b[0m \u001b[38;5;28;01mfor\u001b[39;00m t, y_t \u001b[38;5;129;01min\u001b[39;00m \u001b[38;5;28menumerate\u001b[39m(y):\n\u001b[1;32m    251\u001b[0m     \u001b[38;5;28mself\u001b[39m\u001b[38;5;241m.\u001b[39mtest_vec_eval()\n\u001b[0;32m--> 252\u001b[0m     this_state \u001b[38;5;241m=\u001b[39m \u001b[38;5;28;43mself\u001b[39;49m\u001b[38;5;241;43m.\u001b[39;49m\u001b[43mstep\u001b[49m\u001b[43m(\u001b[49m\u001b[43my_t\u001b[49m\u001b[43m,\u001b[49m\n\u001b[1;32m    253\u001b[0m \u001b[43m                           \u001b[49m\u001b[43mthis_state\u001b[49m\u001b[43m,\u001b[49m\n\u001b[1;32m    254\u001b[0m \u001b[43m                           \u001b[49m\u001b[43mextra_measurements\u001b[49m\u001b[38;5;241;43m=\u001b[39;49m\u001b[43mextra_measurements\u001b[49m\u001b[43m,\u001b[49m\n\u001b[1;32m    255\u001b[0m \u001b[43m                           \u001b[49m\u001b[43mrecord\u001b[49m\u001b[38;5;241;43m=\u001b[39;49m\u001b[38;5;28;43;01mTrue\u001b[39;49;00m\u001b[43m)\u001b[49m \n\u001b[1;32m    256\u001b[0m     \u001b[38;5;28;01mfor\u001b[39;00m _ \u001b[38;5;129;01min\u001b[39;00m \u001b[38;5;28mrange\u001b[39m(\u001b[38;5;28mself\u001b[39m\u001b[38;5;241m.\u001b[39mauto_steps):\n\u001b[1;32m    257\u001b[0m         this_state \u001b[38;5;241m=\u001b[39m \u001b[38;5;28mself\u001b[39m\u001b[38;5;241m.\u001b[39mstep(np\u001b[38;5;241m.\u001b[39mnan,\n\u001b[1;32m    258\u001b[0m                     this_state,\n\u001b[1;32m    259\u001b[0m                     extra_measurements\u001b[38;5;241m=\u001b[39mextra_measurements,\n\u001b[1;32m    260\u001b[0m                     record\u001b[38;5;241m=\u001b[39m\u001b[38;5;28;01mFalse\u001b[39;00m)\n",
      "File \u001b[0;32m~/one_more_dir/one_more_dir/contextual_frogs/runners.py:188\u001b[0m, in \u001b[0;36mRunner.step\u001b[0;34m(self, y_t, x_tm1, extra_measurements, record)\u001b[0m\n\u001b[1;32m    186\u001b[0m     \u001b[38;5;28mself\u001b[39m\u001b[38;5;241m.\u001b[39mmodel\u001b[38;5;241m.\u001b[39mtrain()\n\u001b[1;32m    187\u001b[0m     \u001b[38;5;28mself\u001b[39m\u001b[38;5;241m.\u001b[39moptimizer\u001b[38;5;241m.\u001b[39mzero_grad()        \n\u001b[0;32m--> 188\u001b[0m     torch_u_t \u001b[38;5;241m=\u001b[39m \u001b[38;5;28;43mself\u001b[39;49m\u001b[38;5;241;43m.\u001b[39;49m\u001b[43mmodel\u001b[49m\u001b[43m(\u001b[49m\n\u001b[1;32m    189\u001b[0m \u001b[43m        \u001b[49m\u001b[43mtorch\u001b[49m\u001b[38;5;241;43m.\u001b[39;49m\u001b[43mtensor\u001b[49m\u001b[43m(\u001b[49m\u001b[43mnp\u001b[49m\u001b[38;5;241;43m.\u001b[39;49m\u001b[43mfloat32\u001b[49m\u001b[43m(\u001b[49m\u001b[43mmodel_input\u001b[49m\u001b[43m)\u001b[49m\u001b[43m,\u001b[49m\u001b[43m \u001b[49m\u001b[43mrequires_grad\u001b[49m\u001b[38;5;241;43m=\u001b[39;49m\u001b[38;5;28;43;01mFalse\u001b[39;49;00m\u001b[43m)\u001b[49m\u001b[38;5;241;43m.\u001b[39;49m\u001b[43mto\u001b[49m\u001b[43m(\u001b[49m\u001b[38;5;28;43mself\u001b[39;49m\u001b[38;5;241;43m.\u001b[39;49m\u001b[43mdevice\u001b[49m\u001b[43m)\u001b[49m\n\u001b[1;32m    190\u001b[0m \u001b[43m    \u001b[49m\u001b[43m)\u001b[49m\n\u001b[1;32m    191\u001b[0m     u_t \u001b[38;5;241m=\u001b[39m torch_u_t\u001b[38;5;241m.\u001b[39mcpu()\u001b[38;5;241m.\u001b[39mdetach()\u001b[38;5;241m.\u001b[39mnumpy()\u001b[38;5;241m.\u001b[39msqueeze()\n\u001b[1;32m    192\u001b[0m \u001b[38;5;28;01melif\u001b[39;00m \u001b[38;5;28mself\u001b[39m\u001b[38;5;241m.\u001b[39mmodel_type\u001b[38;5;241m==\u001b[39m\u001b[38;5;124m'\u001b[39m\u001b[38;5;124mnumpy\u001b[39m\u001b[38;5;124m'\u001b[39m:\n",
      "File \u001b[0;32m/opt/conda/lib/python3.8/site-packages/torch/nn/modules/module.py:1186\u001b[0m, in \u001b[0;36mModule._call_impl\u001b[0;34m(self, *input, **kwargs)\u001b[0m\n\u001b[1;32m   1182\u001b[0m \u001b[38;5;66;03m# If we don't have any hooks, we want to skip the rest of the logic in\u001b[39;00m\n\u001b[1;32m   1183\u001b[0m \u001b[38;5;66;03m# this function, and just call forward.\u001b[39;00m\n\u001b[1;32m   1184\u001b[0m \u001b[38;5;28;01mif\u001b[39;00m \u001b[38;5;129;01mnot\u001b[39;00m (\u001b[38;5;28mself\u001b[39m\u001b[38;5;241m.\u001b[39m_backward_hooks \u001b[38;5;129;01mor\u001b[39;00m \u001b[38;5;28mself\u001b[39m\u001b[38;5;241m.\u001b[39m_forward_hooks \u001b[38;5;129;01mor\u001b[39;00m \u001b[38;5;28mself\u001b[39m\u001b[38;5;241m.\u001b[39m_forward_pre_hooks \u001b[38;5;129;01mor\u001b[39;00m _global_backward_hooks\n\u001b[1;32m   1185\u001b[0m         \u001b[38;5;129;01mor\u001b[39;00m _global_forward_hooks \u001b[38;5;129;01mor\u001b[39;00m _global_forward_pre_hooks):\n\u001b[0;32m-> 1186\u001b[0m     \u001b[38;5;28;01mreturn\u001b[39;00m \u001b[43mforward_call\u001b[49m\u001b[43m(\u001b[49m\u001b[38;5;241;43m*\u001b[39;49m\u001b[38;5;28;43minput\u001b[39;49m\u001b[43m,\u001b[49m\u001b[43m \u001b[49m\u001b[38;5;241;43m*\u001b[39;49m\u001b[38;5;241;43m*\u001b[39;49m\u001b[43mkwargs\u001b[49m\u001b[43m)\u001b[49m\n\u001b[1;32m   1187\u001b[0m \u001b[38;5;66;03m# Do not call functions when jit is used\u001b[39;00m\n\u001b[1;32m   1188\u001b[0m full_backward_hooks, non_full_backward_hooks \u001b[38;5;241m=\u001b[39m [], []\n",
      "File \u001b[0;32m~/one_more_dir/one_more_dir/contextual_frogs/models.py:167\u001b[0m, in \u001b[0;36mMLP.forward\u001b[0;34m(self, x)\u001b[0m\n\u001b[1;32m    164\u001b[0m \u001b[38;5;28;01mdef\u001b[39;00m \u001b[38;5;21mforward\u001b[39m(\u001b[38;5;28mself\u001b[39m, x):\n\u001b[1;32m    166\u001b[0m     \u001b[38;5;28;01mif\u001b[39;00m \u001b[38;5;28mself\u001b[39m\u001b[38;5;241m.\u001b[39mprescaling \u001b[38;5;129;01mis\u001b[39;00m \u001b[38;5;129;01mnot\u001b[39;00m \u001b[38;5;28;01mNone\u001b[39;00m:\n\u001b[0;32m--> 167\u001b[0m         x \u001b[38;5;241m=\u001b[39m \u001b[43mx\u001b[49m\u001b[43m \u001b[49m\u001b[38;5;241;43m*\u001b[39;49m\u001b[43m \u001b[49m\u001b[38;5;28;43mself\u001b[39;49m\u001b[38;5;241;43m.\u001b[39;49m\u001b[43mprescaling\u001b[49m\n\u001b[1;32m    169\u001b[0m     x_res \u001b[38;5;241m=\u001b[39m torch\u001b[38;5;241m.\u001b[39msum(\u001b[38;5;28mself\u001b[39m\u001b[38;5;241m.\u001b[39mskip_gain \u001b[38;5;241m*\u001b[39mx, dim\u001b[38;5;241m=\u001b[39m\u001b[38;5;241m-\u001b[39m\u001b[38;5;241m1\u001b[39m, keepdim\u001b[38;5;241m=\u001b[39m\u001b[38;5;28;01mTrue\u001b[39;00m)\n\u001b[1;32m    171\u001b[0m     x \u001b[38;5;241m=\u001b[39m \u001b[38;5;28mself\u001b[39m\u001b[38;5;241m.\u001b[39minput_layer(x)\n",
      "\u001b[0;31mRuntimeError\u001b[0m: Expected all tensors to be on the same device, but found at least two devices, cuda:0 and cpu!"
     ]
    }
   ],
   "source": [
    "uni_results = uni_runner.run_multiple(playlist)"
   ]
  },
  {
   "cell_type": "code",
   "execution_count": null,
   "metadata": {},
   "outputs": [],
   "source": [
    "do_plots(uni_results,playlist)"
   ]
  },
  {
   "cell_type": "code",
   "execution_count": null,
   "metadata": {},
   "outputs": [],
   "source": []
  },
  {
   "cell_type": "code",
   "execution_count": null,
   "metadata": {},
   "outputs": [],
   "source": []
  },
  {
   "cell_type": "code",
   "execution_count": null,
   "metadata": {},
   "outputs": [],
   "source": [
    "plt.figure(figsize=(10,5))\n",
    "colors=['tab:red','tab:blue','tab:orange','tab:green']\n",
    "for i,scenario in enumerate(['AB0','AB1','AB2','AB3']):\n",
    "    y = uni_results[scenario].u_lp\n",
    "    x = np.arange(len(y))\n",
    "    plt.subplot(1,2,1)\n",
    "    plt.plot(y[-TaB:],colors[i])\n",
    "    plt.xlim([0,600])\n",
    "    plt.subplot(1,2,2)\n",
    "    plt.semilogy(y[-TaB:]-y[-20],colors[i])\n",
    "    plt.xlim([0,600])"
   ]
  },
  {
   "cell_type": "code",
   "execution_count": null,
   "metadata": {},
   "outputs": [],
   "source": [
    "plt.figure(figsize=(10,5))\n",
    "colors=['tab:red','tab:blue','tab:orange','tab:green']\n",
    "for i,scenario in enumerate(['AB0','AB1','AB2','AB3']):\n",
    "    y = uni_results[scenario].u_lp\n",
    "    x = np.arange(len(y))\n",
    "    plt.subplot(1,2,1)\n",
    "    plt.plot(y[-TaB:-TaB+125],colors[i])\n",
    "#     plt.xlim([0,125])\n",
    "    plt.subplot(1,2,2)\n",
    "    plt.semilogy((y[-TaB:-TaB+125]-y[-20])/(y[-TaB+10]-y[-20]),colors[i])\n",
    "#     plt.xlim([0,600])"
   ]
  },
  {
   "cell_type": "code",
   "execution_count": null,
   "metadata": {},
   "outputs": [],
   "source": [
    "\n",
    "plt.figure(figsize=(10,5))\n",
    "colors=['tab:red','tab:blue','tab:orange','tab:green']\n",
    "for i,scenario in enumerate(['sprecovery','evrecovery']):\n",
    "    y = uni_results[scenario].u_lp\n",
    "    x = np.arange(len(y))\n",
    "    plt.subplot(1,2,1)\n",
    "    plt.plot(y,colors[i])\n"
   ]
  },
  {
   "cell_type": "code",
   "execution_count": null,
   "metadata": {},
   "outputs": [],
   "source": []
  },
  {
   "cell_type": "code",
   "execution_count": null,
   "metadata": {},
   "outputs": [],
   "source": []
  },
  {
   "cell_type": "code",
   "execution_count": null,
   "metadata": {},
   "outputs": [],
   "source": [
    "  ./sweep_subjects.sh --this_sweep_name test_steps_etc --min 3 --max 12 \\\n",
    "      python --subject_id \"_sweep_var\" --max_iter 2 --file_name_prefix \"_sweep_name\" \\\n",
    "      '>' \"${_sweep_name}${_sweep_var}.log\" '2>&1'"
   ]
  }
 ],
 "metadata": {
  "accelerator": "GPU",
  "colab": {
   "authorship_tag": "ABX9TyO5YH1iC300IMOgPX5AQBGV",
   "gpuType": "L4",
   "machine_shape": "hm",
   "provenance": [
    {
     "file_id": "1K9Yp_QU1fwu5WigfPtqTYBwST-fydGrD",
     "timestamp": 1729694298886
    },
    {
     "file_id": "1sXHlF7j2RSb4-ZbcY0AtmwDIhsYYdzKP",
     "timestamp": 1729688246445
    },
    {
     "file_id": "1F4YwnHiy2zUvNkfRSpW0eAEb1TsXPzqW",
     "timestamp": 1729526683729
    },
    {
     "file_id": "1fvRTwlfXBy9ZVaZh1OZgwfw2qWvuG0zk",
     "timestamp": 1729514567145
    },
    {
     "file_id": "1gOPlIVyl2DIdmz0FgHPQF8k-Abm0y9M2",
     "timestamp": 1729446099556
    },
    {
     "file_id": "16KulXUCkIg-0lwihg0NnjJ83OPJaAi-6",
     "timestamp": 1729373011856
    },
    {
     "file_id": "1VLDnNO-BroeZhRAb1oshtOu2QiD5K-NR",
     "timestamp": 1729369960080
    },
    {
     "file_id": "1oZif11nCfrE2Zjc9K5K5a1nXxf1fN-CM",
     "timestamp": 1729367798990
    },
    {
     "file_id": "1RVVWtyW9Odh18e4DAAgGPfyjn1TpYoIv",
     "timestamp": 1729089851812
    },
    {
     "file_id": "1yB6gnnZbBR48VFzcj8HGpd90WraXxGZc",
     "timestamp": 1729089440659
    },
    {
     "file_id": "1MSTBs5TPRXKv9H9OZKWTJwfOp-pOczyC",
     "timestamp": 1729085768950
    },
    {
     "file_id": "18G3pU6LRmoGT17ZNtcQizDGxQSHWjGjf",
     "timestamp": 1729081864018
    },
    {
     "file_id": "1jKpXbyiLuS3Jl06Ch3HfLzSb5UjtH19l",
     "timestamp": 1729081013302
    },
    {
     "file_id": "1I1DZX1l51pLobbRr--6nWx7iIbncy1bT",
     "timestamp": 1729006548457
    },
    {
     "file_id": "1ojvKUWJAryb2769MlrOa9RRRvsxG1r6y",
     "timestamp": 1728909680764
    },
    {
     "file_id": "15JkV9okYMtvTdp8TKjVzVx57lR0dUdwD",
     "timestamp": 1728592718499
    },
    {
     "file_id": "1vR84bLxUv70s2kwd9U1vAZF-_yt5Zuce",
     "timestamp": 1728513316514
    },
    {
     "file_id": "1q8W_SLk1OxYmk1jLgKNgbUG49ti-1nkP",
     "timestamp": 1727113306590
    },
    {
     "file_id": "1AWJ_FrAlS2fX_mBeTozla2UybMSf1-Ba",
     "timestamp": 1726525408948
    },
    {
     "file_id": "1tK2z2O8U7U4zjih2CQGKdzWinj4h9KLw",
     "timestamp": 1726233256409
    },
    {
     "file_id": "1ugGvMO1uwvid4PtrkacHJekDmryYoKNE",
     "timestamp": 1726225644033
    },
    {
     "file_id": "1IxWzHdunAJBQI_H8iJCOCb4AFAgYWIyZ",
     "timestamp": 1726219170577
    },
    {
     "file_id": "1abVXbRzq9a9h9PzbmzpI-pySxb2OZqgm",
     "timestamp": 1721118285813
    }
   ]
  },
  "kernelspec": {
   "display_name": "Python 3 (ipykernel)",
   "language": "python",
   "name": "python3"
  },
  "language_info": {
   "codemirror_mode": {
    "name": "ipython",
    "version": 3
   },
   "file_extension": ".py",
   "mimetype": "text/x-python",
   "name": "python",
   "nbconvert_exporter": "python",
   "pygments_lexer": "ipython3",
   "version": "3.8.13"
  }
 },
 "nbformat": 4,
 "nbformat_minor": 1
}
