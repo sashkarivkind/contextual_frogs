{
 "cells": [
  {
   "cell_type": "code",
   "execution_count": 1,
   "metadata": {
    "executionInfo": {
     "elapsed": 2926,
     "status": "ok",
     "timestamp": 1729694443927,
     "user": {
      "displayName": "Alexander Rivkind",
      "userId": "10002507018830873377"
     },
     "user_tz": -180
    },
    "id": "GsCDb1ZrwV9Z"
   },
   "outputs": [
    {
     "name": "stderr",
     "output_type": "stream",
     "text": [
      "/opt/conda/lib/python3.8/site-packages/tqdm/auto.py:22: TqdmWarning: IProgress not found. Please update jupyter and ipywidgets. See https://ipywidgets.readthedocs.io/en/stable/user_install.html\n",
      "  from .autonotebook import tqdm as notebook_tqdm\n"
     ]
    }
   ],
   "source": [
    "from __future__ import absolute_import\n",
    "import importlib\n",
    "\n",
    "from copy import copy\n",
    "\n",
    "import numpy as np\n",
    "import torch\n",
    "import torch.nn as nn\n",
    "import torch.optim as optim\n",
    "\n",
    "from types import SimpleNamespace\n",
    "\n",
    "import matplotlib.pyplot as plt\n",
    "from models import MLP, OneOverSqr, DualRateModel, ParallelMLP\n",
    "from dsp_utils import seg_time\n",
    "from siggen_utils import herzfeld_block\n",
    "from plt_utils import plot_by_key,plot_segments\n",
    "\n",
    "from runners import Runner\n"
   ]
  },
  {
   "cell_type": "code",
   "execution_count": 2,
   "metadata": {
    "executionInfo": {
     "elapsed": 984,
     "status": "ok",
     "timestamp": 1729696413364,
     "user": {
      "displayName": "Alexander Rivkind",
      "userId": "10002507018830873377"
     },
     "user_tz": -180
    },
    "id": "ONM_K7ZuC_C1"
   },
   "outputs": [],
   "source": [
    "P0=0\n",
    "Pplus=1\n",
    "Pminus=-1\n",
    "Pchannel=np.nan\n",
    "\n",
    "TfN1 = 100\n",
    "TfA = 300\n",
    "TfN2 = 100\n",
    "\n",
    "TsN=60\n",
    "TsA=120\n",
    "TsB=20\n",
    "TsC=20\n",
    "\n",
    "# T=300\n",
    "TaN=150\n",
    "TaB=120*5\n",
    "\n",
    "playlist = {\n",
    "'frogs': [(P0,TfN1),((P0,Pplus),TfA),(P0,TfN2)],\n",
    "'anti_frogs': [(P0,TfN1),(Pplus,TfA),(P0,TfN2)],\n",
    "'savings': 2 * [(P0, TsN), (Pplus, TsA), (Pminus, TsB), (Pchannel, TsC)],\n",
    "'sprecovery': [(P0, 192),\n",
    "               (Pplus, 384),\n",
    "               (Pminus, 20),\n",
    "               (Pchannel, 400)],\n",
    "'spOVRrecovery': [(P0, 192),\n",
    "               (Pplus, 1000),\n",
    "               (Pminus, 20),\n",
    "               (Pchannel, 400)],\n",
    "'evrecovery': [(P0, 192),\n",
    "               (Pplus, 384),\n",
    "               (Pminus, 20),\n",
    "               (Pplus, 20),\n",
    "               (Pchannel, 400)],\n",
    "'lng_recovery': [(P0, 192),\n",
    "               (Pplus, 384),\n",
    "               (Pminus, 384),\n",
    "               (Pchannel, 400)],\n",
    "'sprecoverySMITH': [(P0, 120),\n",
    "               (Pplus, 130),\n",
    "               (Pminus, 20),\n",
    "               (Pchannel, 100)],\n",
    "'spOVRrecoverySMITH': [(P0, 120),\n",
    "               (Pplus, 600),\n",
    "               (Pminus, 20),\n",
    "               (Pchannel, 100)],\n",
    "'AB0':[(P0, TaN),(Pminus, TaB)],\n",
    "'AB1':[(P0, TaN),(Pplus,13),(Pminus, TaB)],\n",
    "'AB2':[(P0, TaN),(Pplus,41),(Pminus, TaB)],\n",
    "'AB3':[(P0, TaN),(Pplus,112),(Pminus, TaB)],\n",
    "'AB4':[(P0, TaN),(Pplus,230),(Pminus, TaB)],\n",
    "'AB5':[(P0, TaN),(Pplus,410),(Pminus, TaB)],\n",
    "# 'AB5':[(P0, TaN),(Pplus,369),(Pminus, TaB)],\n",
    "'AB4r':[(P0, TaN),(Pplus/2,230),(Pminus, TaB)],\n",
    "\n",
    "'ANB0':[(P0, TaN),(Pminus, TaB)],\n",
    "'ANB1':[(P0, TaN),(Pplus,13),(P0, TaB),(Pminus, TaB)],\n",
    "'ANB2':[(P0, TaN),(Pplus,41),(P0, TaB),(Pminus, TaB)],\n",
    "'ANB3':[(P0, TaN),(Pplus,112),(P0, TaB),(Pminus, TaB)],\n",
    "    }\n",
    "\n",
    "def generate_herzfeld_scenarios(z_list=None, n_blocks=None, Tflips=None): \n",
    "    out_dict = {}\n",
    "    for z in z_list:\n",
    "        scenario_name =  f'herzfeld,z={z}'\n",
    "        pert_per_z = []\n",
    "        for n in range(n_blocks):\n",
    "            hz = herzfeld_block(z, P1=Pplus,P2=Pminus,P0=P0, tau=1)\n",
    "            pert_per_z.append((hz,len(hz)))\n",
    "        out_dict.update({scenario_name:pert_per_z})\n",
    "    return out_dict\n",
    "\n",
    "hrz_params = {'z_list': [0.1,0.5,0.9], 'n_blocks': 25}\n",
    "playlist.update(generate_herzfeld_scenarios(**hrz_params))\n",
    "        "
   ]
  },
  {
   "cell_type": "code",
   "execution_count": 3,
   "metadata": {},
   "outputs": [],
   "source": [
    "frog_playlist = {\n",
    "f'frogs{f}': [(P0,TfN1),((P0,Pplus),TfA_),(P0,TfN2)] for f,TfA_ in enumerate([300,600, 900])}\n",
    "\n",
    "frog_playlist_a = {\n",
    "f'anti_frogs{f}': [(P0,TfN1),(Pplus,TfA_),(P0,TfN2)] for f,TfA_ in enumerate([300,600, 900])} \n",
    "\n",
    "frog_playlist.update(frog_playlist_a)"
   ]
  },
  {
   "cell_type": "code",
   "execution_count": 4,
   "metadata": {},
   "outputs": [],
   "source": [
    "# baseline_settings = {'criterion':'MSE', 'k':[0.1,0,5], 'learning_rate':0.5e-4, 'sigma_noi':0.0, 'tau_u':1}\n",
    "# baseline_settings = {'criterion':'MSE', 'k':[0.5,0,2], 'learning_rate':0.5e-4, 'sigma_noi':0.0, 'tau_u':1}\n",
    "\n",
    "w=0.2\n",
    "dual_rate_settings = {'k':[0,0,1], 'tau_u':1}\n",
    "\n",
    "\n",
    "# dual_rate_flags = {'apply_initial_state': False, 'save_model_at_init':False, 'model_type': 'numpy'}\n",
    "dual_rate_flags_runner = {'model_type': 'numpy',\n",
    "                   'initial_state': [0,0,0], \n",
    "                   'save_model_at_init':False, \n",
    "                  'do_backprop': False}\n",
    "\n",
    "# nn_settings = {'criterion':'MSE', 'k':[0.3,0,1], 'learning_rate':0.5e-4, 'sigma_noi':0.0, 'tau_u':1, 'auto_steps':10}\n",
    "error_nn_setting = {'criterion':'MSE', 'k':[1,1,1,1], 'learning_rate':1e-5/w, 'sigma_noi':0.0, 'tau_u':1,  'enable_combo': True}\n",
    "combo_nn_setting = {'criterion':'MSE', 'k':[1,1,1,1], 'learning_rate':1e-5/w, 'sigma_noi':0.0, 'tau_u':1,  'enable_combo': True}\n",
    "error_plus_combo_nn_setting = {'criterion':'MSE', 'k':[1,1,1,1], 'learning_rate':1e-5/w/2, 'sigma_noi':0.0, 'tau_u':1,  'enable_combo': True}\n",
    "\n",
    "\n",
    "test_vec= np.stack([np.linspace(-10,10,200), \n",
    "                    np.zeros(200),\n",
    "                    np.zeros(200)]).T"
   ]
  },
  {
   "cell_type": "code",
   "execution_count": null,
   "metadata": {},
   "outputs": [],
   "source": []
  },
  {
   "cell_type": "code",
   "execution_count": 5,
   "metadata": {},
   "outputs": [],
   "source": [
    "dual_rate_flags_model = dict(input_proj_vec=[0,0,1])\n",
    "\n",
    "model_args_s = {}\n",
    "# model_args_s['Colman'] = dict(a_f=0.55,a_s=0.995, b_f=0.4, b_s=0.05, \n",
    "#                               info={'model_type':'dual_rate','runner_settings':dual_rate_settings}) #approx means from Coltman et al.\n",
    "model_args_s['Smith'] = dict(a_f=0.59,a_s=0.992, b_f=0.21, b_s=0.02, \n",
    "                             info={'model_type':'dual_rate','runner_settings':dual_rate_settings})  #Smith et al\n",
    "\n",
    "model_construct_args =  dict(n_inputs = 3,\n",
    "                  n_hidden = 5*4*512,\n",
    "                  n_outs = 1,\n",
    "                  en_bias = False,\n",
    "                 b_high=3, first_layer_init='ones',\n",
    "                first_layer_weights_trainable = True,\n",
    "                out_layer_init='zeros',\n",
    "                  nl = lambda : OneOverSqr(w=w), skip_gain= 0.0)\n",
    "model_args_s['errorNN'] =  dict(n_inputs = 4,\n",
    "                      n_hidden = 5*4*512,\n",
    "                      n_outs = 1,\n",
    "                      en_bias = False,\n",
    "                     b_high=3, first_layer_init='ones',\n",
    "                    first_layer_weights_trainable = True,\n",
    "                    out_layer_init='zeros',\n",
    "                        prescaling = [0,0,1,0],         \n",
    "                      nl = lambda : OneOverSqr(w=w), skip_gain= 0.0, info={'model_type':'mlp','runner_settings':error_nn_setting})\n",
    "\n",
    "model_args_s['comboNN'] =  dict(n_inputs = 4,\n",
    "                      n_hidden = 5*4*512,\n",
    "                      n_outs = 1,\n",
    "                      en_bias = False,\n",
    "                     b_high=3, first_layer_init='ones',\n",
    "                    first_layer_weights_trainable = True,\n",
    "                    out_layer_init='zeros', prescaling = [0,0,0,1],\n",
    "                      nl = lambda : OneOverSqr(w=w), skip_gain= 0.0, info={'model_type':'mlp','runner_settings':combo_nn_setting})\n",
    "\n",
    "\n",
    "model_args_s['errorPlusComboNN'] = dict(n_inputs = 4,\n",
    "                                        parameter_sets = [model_args_s['errorNN'], model_args_s['comboNN']],\n",
    "                                    info={'model_type':'parallel_mlp','runner_settings':error_plus_combo_nn_setting})\n",
    "\n",
    "model_args_s['MoreErrorPlusComboNN'] = dict(n_inputs = 4,\n",
    "                                        parameter_sets = [{**model_args_s['errorNN'], 'n_hidden' : 5*6*512}, \n",
    "                                                          {**model_args_s['comboNN'],  'n_hidden' : 5*2*512}],\n",
    "                                    info={'model_type':'parallel_mlp','runner_settings':error_plus_combo_nn_setting})\n",
    "\n",
    "model_args_s['MoreErrorPlusComboNN_v2'] = dict(n_inputs = 4,\n",
    "                                        parameter_sets = [{**model_args_s['errorNN'],  'main_gain' : 6/4}, \n",
    "                                                          {**model_args_s['comboNN'],  'main_gain' : 2/4}],\n",
    "                                    info={'model_type':'parallel_mlp','runner_settings':error_plus_combo_nn_setting})"
   ]
  },
  {
   "cell_type": "code",
   "execution_count": 6,
   "metadata": {},
   "outputs": [],
   "source": [
    "results = {}\n",
    "# frog_results = {}\n",
    "tested_settings = {}  #empty for all{'MoreErrorPlusComboNN'} # {'errorPlusComboNN'}"
   ]
  },
  {
   "cell_type": "code",
   "execution_count": null,
   "metadata": {},
   "outputs": [
    {
     "name": "stdout",
     "output_type": "stream",
     "text": [
      "model reset\n",
      "running scenario: frogs\n",
      "running scenario: anti_frogs\n",
      "running scenario: savings\n",
      "running scenario: sprecovery\n",
      "running scenario: spOVRrecovery\n",
      "running scenario: evrecovery\n",
      "running scenario: lng_recovery\n",
      "running scenario: sprecoverySMITH\n",
      "running scenario: spOVRrecoverySMITH\n",
      "running scenario: AB0\n",
      "running scenario: AB1\n",
      "running scenario: AB2\n",
      "running scenario: AB3\n",
      "running scenario: AB4\n",
      "running scenario: AB5\n",
      "running scenario: AB4r\n",
      "running scenario: ANB0\n",
      "running scenario: ANB1\n",
      "running scenario: ANB2\n",
      "running scenario: ANB3\n",
      "running scenario: herzfeld,z=0.1\n",
      "running scenario: herzfeld,z=0.5\n",
      "running scenario: herzfeld,z=0.9\n",
      "model reset\n",
      "running scenario: frogs\n",
      "running scenario: anti_frogs\n",
      "running scenario: savings\n",
      "running scenario: sprecovery\n",
      "running scenario: spOVRrecovery\n",
      "running scenario: evrecovery\n",
      "running scenario: lng_recovery\n",
      "running scenario: sprecoverySMITH\n",
      "running scenario: spOVRrecoverySMITH\n",
      "running scenario: AB0\n",
      "running scenario: AB1\n",
      "running scenario: AB2\n",
      "running scenario: AB3\n",
      "running scenario: AB4\n",
      "running scenario: AB5\n",
      "running scenario: AB4r\n",
      "running scenario: ANB0\n",
      "running scenario: ANB1\n",
      "running scenario: ANB2\n",
      "running scenario: ANB3\n",
      "running scenario: herzfeld,z=0.1\n",
      "running scenario: herzfeld,z=0.5\n",
      "running scenario: herzfeld,z=0.9\n",
      "model reset\n",
      "running scenario: frogs\n",
      "running scenario: anti_frogs\n",
      "running scenario: savings\n",
      "running scenario: sprecovery\n",
      "running scenario: spOVRrecovery\n",
      "running scenario: evrecovery\n",
      "running scenario: lng_recovery\n",
      "running scenario: sprecoverySMITH\n",
      "running scenario: spOVRrecoverySMITH\n",
      "running scenario: AB0\n",
      "running scenario: AB1\n",
      "running scenario: AB2\n",
      "running scenario: AB3\n",
      "running scenario: AB4\n",
      "running scenario: AB5\n",
      "running scenario: AB4r\n",
      "running scenario: ANB0\n",
      "running scenario: ANB1\n",
      "running scenario: ANB2\n",
      "running scenario: ANB3\n",
      "running scenario: herzfeld,z=0.1\n",
      "running scenario: herzfeld,z=0.5\n",
      "running scenario: herzfeld,z=0.9\n",
      "model reset\n",
      "running scenario: frogs\n",
      "running scenario: anti_frogs\n",
      "running scenario: savings\n",
      "running scenario: sprecovery\n",
      "running scenario: spOVRrecovery\n",
      "running scenario: evrecovery\n",
      "running scenario: lng_recovery\n",
      "running scenario: sprecoverySMITH\n",
      "running scenario: spOVRrecoverySMITH\n",
      "running scenario: AB0\n",
      "running scenario: AB1\n",
      "running scenario: AB2\n",
      "running scenario: AB3\n",
      "running scenario: AB4\n",
      "running scenario: AB5\n",
      "running scenario: AB4r\n",
      "running scenario: ANB0\n",
      "running scenario: ANB1\n",
      "running scenario: ANB2\n",
      "running scenario: ANB3\n",
      "running scenario: herzfeld,z=0.1\n",
      "running scenario: herzfeld,z=0.5\n",
      "running scenario: herzfeld,z=0.9\n",
      "model reset\n",
      "running scenario: frogs\n",
      "running scenario: anti_frogs\n"
     ]
    }
   ],
   "source": [
    "for setting,model_args  in model_args_s.items():\n",
    "    if len(tested_settings) > 0 and  setting not in tested_settings:\n",
    "        print(f'skipping setting \"{setting}\"')\n",
    "        continue\n",
    "    if model_args['info']['model_type'] == 'mlp':\n",
    "        model_class = MLP\n",
    "        flags_runner = {}\n",
    "        flags_model = {}\n",
    "    elif model_args['info']['model_type'] == 'parallel_mlp':\n",
    "        model_class = ParallelMLP\n",
    "        flags_runner = {}\n",
    "        flags_model = {}\n",
    "    elif model_args['info']['model_type'] == 'dual_rate':\n",
    "        model_class = DualRateModel\n",
    "        flags_runner = dual_rate_flags_runner\n",
    "        flags_model = dual_rate_flags_model\n",
    "    else:\n",
    "        raise ValueError\n",
    "        \n",
    "        \n",
    "#     runner = Runner(model=model_class(**{**model_args, **flags_model}),\n",
    "#                     test_vec=None,\n",
    "#                     **{**model_args['info']['runner_settings'],**flags_runner})\n",
    "\n",
    "            \n",
    "    runner = Runner(model_class=model_class, model_construct_args={**model_args, **flags_model},\n",
    "                    test_vec=None,\n",
    "                    **{**model_args['info']['runner_settings'],**flags_runner})\n",
    "    \n",
    "    results[setting] = runner.run_multiple(playlist)\n",
    "#     frog_results[setting] = runner.run_multiple(frog_playlist)"
   ]
  },
  {
   "cell_type": "code",
   "execution_count": null,
   "metadata": {
    "executionInfo": {
     "elapsed": 3,
     "status": "ok",
     "timestamp": 1729696807040,
     "user": {
      "displayName": "Alexander Rivkind",
      "userId": "10002507018830873377"
     },
     "user_tz": -180
    },
    "id": "d4cNKVvjTTUd"
   },
   "outputs": [],
   "source": [
    "antero_colors=['tab:red','tab:blue','tab:orange','tab:green']\n",
    "def do_plots(results,playlist,figsize=(24, 12)):\n",
    "    plt.figure(figsize=figsize)\n",
    "    plt.subplot(2,3,1)\n",
    "    plot_segments(results['savings'].u_lp,\n",
    "              t_start=playlist['savings'][0][1],\n",
    "              n_segments=2,\n",
    "              t_increment=playlist['savings'][0][1]+playlist['savings'][1][1]+playlist['savings'][2][1]+playlist['savings'][3][1],\n",
    "              t_segment=playlist['savings'][1][1],             \n",
    "             )\n",
    "    plt.subplot(2,3,2)\n",
    "    plot_by_key(results, ['frogs','anti_frogs'],visu_offsets = [0, 0.00])\n",
    "    plt.xlabel('epochs')\n",
    "    plt.ylabel('u(epoch) [au]')\n",
    "    plt.subplot(2,3,3)\n",
    "    plot_by_key(results,\n",
    "                ['sprecovery','spOVRrecovery','lng_recovery','evrecovery'],\n",
    "                colors=['tab:red','tab:blue','tab:orange','tab:green'],\n",
    "                align_end=True,\n",
    "                visu_offsets=[0]*10,\n",
    "               )\n",
    "    \n",
    "    plt.subplot(2,3,4)\n",
    "    plot_by_key(results,\n",
    "                ['AB0','AB1','AB2','AB3'],\n",
    "                colors=antero_colors,\n",
    "                align_end=True,\n",
    "                visu_offsets=[0]*10,\n",
    "               )\n",
    "    \n",
    "    plt.subplot(2,3,5)\n",
    "    plot_by_key(results,\n",
    "                ['ANB0','ANB1','ANB2','ANB3'],\n",
    "                colors=antero_colors,\n",
    "                align_end=True,\n",
    "                visu_offsets=[0]*10,\n",
    "               )\n",
    "    \n",
    "    plt.subplot(2,3,6)\n",
    "    for iz, z in enumerate(hrz_params['z_list']):\n",
    "        deltas = []\n",
    "        scenario = f'herzfeld,z={z}'\n",
    "        this_result = results[scenario]\n",
    "        block_length = playlist[scenario]\n",
    "        pointer = 0\n",
    "        for bb in range(hrz_params['n_blocks']):\n",
    "            block_length = playlist[scenario][bb][-1]\n",
    "            pointer += block_length\n",
    "            deltas.append(this_result.u_lp[pointer-1]-this_result.u_lp[pointer-3])            \n",
    "\n",
    "        plt.plot(deltas,'x',label = f'z={z}')\n",
    "    plt.legend(loc='upper right')\n",
    "    plt.xlabel('block #')\n",
    "    plt.ylabel('adaptation delta channel2-channel1')"
   ]
  },
  {
   "cell_type": "markdown",
   "metadata": {},
   "source": [
    "## Evaluating basic checklist"
   ]
  },
  {
   "cell_type": "code",
   "execution_count": null,
   "metadata": {
    "colab": {
     "base_uri": "https://localhost:8080/",
     "height": 564
    },
    "executionInfo": {
     "elapsed": 8,
     "status": "ok",
     "timestamp": 1729696808155,
     "user": {
      "displayName": "Alexander Rivkind",
      "userId": "10002507018830873377"
     },
     "user_tz": -180
    },
    "id": "q0zQFwIYkqLK",
    "outputId": "143e46e0-a43c-46eb-f93e-8ad0987ba7bc",
    "scrolled": false
   },
   "outputs": [],
   "source": [
    "for name, these_results in results.items():\n",
    "    do_plots(these_results,playlist)\n",
    "    plt.subplot(2,3,1)\n",
    "    plt.title(f'savings')\n",
    "    plt.ylabel(name)\n",
    "    plt.subplot(2,3,2)\n",
    "    plt.title(f'abrupt/gradual')\n",
    "    plt.subplot(2,3,3)\n",
    "    plt.title(f'spontaneous/evoked recovery')\n",
    "    plt.grid(True)\n",
    "    plt.subplot(2,3,4)\n",
    "    plt.ylabel(name)\n",
    "    plt.show()"
   ]
  },
  {
   "cell_type": "code",
   "execution_count": null,
   "metadata": {},
   "outputs": [],
   "source": [
    "ww=4\n",
    "smoothed_results = {}\n",
    "for i in results:\n",
    "    smoothed_results[i] = {}\n",
    "    for k,v in results[i].items():\n",
    "        smoothed_results[i][k] = SimpleNamespace()\n",
    "        smoothed_results[i][k].u_lp = np.convolve(np.ones(ww)/ww, v.u_lp)"
   ]
  },
  {
   "cell_type": "code",
   "execution_count": null,
   "metadata": {},
   "outputs": [],
   "source": [
    "for name, these_results in smoothed_results.items():\n",
    "    do_plots(these_results,playlist)\n",
    "    plt.subplot(2,3,1)\n",
    "    plt.title(f'savings')\n",
    "    plt.ylabel(name)\n",
    "    plt.subplot(2,3,2)\n",
    "    plt.title(f'abrupt/gradual')\n",
    "    plt.subplot(2,3,3)\n",
    "    plt.title(f'spontaneous/evoked recovery')\n",
    "    plt.grid(True)\n",
    "    plt.subplot(2,3,4)\n",
    "    plt.ylabel(name)\n",
    "    plt.show()"
   ]
  },
  {
   "cell_type": "markdown",
   "metadata": {},
   "source": [
    "# zooming into spontaneous recovery at time-intervals as in Smith paper"
   ]
  },
  {
   "cell_type": "code",
   "execution_count": null,
   "metadata": {},
   "outputs": [],
   "source": [
    "for ii, model_name in enumerate(['Smith','MoreErrorPlusComboNN']):\n",
    "    plot_by_key(results[model_name],\n",
    "                    ['sprecoverySMITH'],\n",
    "                    colors=[antero_colors[ii]], # a hack to perserve our standard color codind\n",
    "                    align_end=True,\n",
    "                    visu_offsets=[0]*10,\n",
    "                   )\n",
    "plt.grid()\n",
    "# plt.xlim([-1000,-300])"
   ]
  },
  {
   "cell_type": "markdown",
   "metadata": {},
   "source": [
    "# Overlearning"
   ]
  },
  {
   "cell_type": "code",
   "execution_count": null,
   "metadata": {},
   "outputs": [],
   "source": [
    "plt.figure(figsize=(15,5))\n",
    "\n",
    "for ii, model_name in enumerate(['Smith','MoreErrorPlusComboNN']):\n",
    "    plt.subplot(1,2,ii+1)\n",
    "    plot_by_key(results[model_name],\n",
    "                    ['sprecoverySMITH','spOVRrecoverySMITH'],\n",
    "                    colors=antero_colors,\n",
    "                    align_end=True,\n",
    "                    visu_offsets=[0]*10,\n",
    "                   )\n",
    "    plt.title(model_name)\n",
    "    plt.grid()"
   ]
  },
  {
   "cell_type": "markdown",
   "metadata": {},
   "source": [
    "## Zoom into anterograde interference\n",
    "We fist plot it with appropreate zoom, then replot on logarithmic scale to show constant convergence rate"
   ]
  },
  {
   "cell_type": "code",
   "execution_count": null,
   "metadata": {},
   "outputs": [],
   "source": [
    "for ii, model_name in enumerate(['Smith','MoreErrorPlusComboNN']):\n",
    "    plt.subplot(1,2,ii+1)\n",
    "    plot_by_key(results[model_name],\n",
    "                    ['AB0','AB1','AB2','AB3'],\n",
    "                    colors=['tab:red','tab:blue','tab:orange','tab:green'],\n",
    "                    align_end=True,\n",
    "                    visu_offsets=[0]*10,\n",
    "                   )\n",
    "    plt.xlim([-800,-400])\n",
    "# plt.ylim([-1,0])\n"
   ]
  },
  {
   "cell_type": "code",
   "execution_count": null,
   "metadata": {},
   "outputs": [],
   "source": []
  },
  {
   "cell_type": "code",
   "execution_count": null,
   "metadata": {},
   "outputs": [],
   "source": [
    "for ii, model_name in enumerate(['Smith','MoreErrorPlusComboNN']):\n",
    "    these_results=smoothed_results[model_name]\n",
    "    plt.figure(figsize=(15,5))\n",
    "    for s, scenario in enumerate(['AB0','AB1','AB2','AB3']):\n",
    "        y= these_results[scenario].u_lp\n",
    "        x = np.arange(len(y))\n",
    "        plt.subplot(1,3,1)\n",
    "        plt.plot(x,y, color=antero_colors[s])\n",
    "        plt.ylabel(model_name)\n",
    "        plt.subplot(1,3,2)\n",
    "        plt.semilogy(x,y-y[-100],color=antero_colors[s])\n",
    "        plt.subplot(1,3,3)\n",
    "        plt.plot(x[300:600-1], np.diff(np.log10(y[300:600]-y[-1])),color=antero_colors[s])"
   ]
  },
  {
   "cell_type": "code",
   "execution_count": null,
   "metadata": {},
   "outputs": [],
   "source": [
    "paper_colors = ['black','red', 'blue', 'green','cyan', 'magenta']\n",
    "for ii, model_name in enumerate(['MoreErrorPlusComboNN']):\n",
    "    these_results=smoothed_results[model_name]\n",
    "    plt.figure(figsize=(5,5))\n",
    "    for s, scenario in enumerate(['AB0','AB1','AB2','AB3','AB4','AB5']):\n",
    "        y= these_results[scenario].u_lp\n",
    "        x = np.arange(len(y)) -playlist['AB0'][0][1]\n",
    "        bck_cut = playlist['AB0'][-1][1] - 120\n",
    "#         plt.subplot(1,3,1)\n",
    "        plt.plot(x[:-bck_cut],y[:-bck_cut], color=paper_colors[s],linewidth=4)\n",
    "        plt.ylabel(model_name)\n",
    "        plt.grid()\n",
    "#         plt.xlim([0,500])\n",
    "#         plt.subplot(1,3,2)\n",
    "#         plt.semilogy(x,y-y[-100],color=antero_colors[s])\n",
    "#         plt.subplot(1,3,3)\n",
    "#         plt.plot(x[300:600-1], np.diff(np.log10(y[300:600]-y[-1])),color=antero_colors[s])"
   ]
  },
  {
   "cell_type": "code",
   "execution_count": null,
   "metadata": {},
   "outputs": [],
   "source": [
    "paper_colors = ['red', 'blue', 'green','cyan', 'magenta']\n",
    "for ii, model_name in enumerate(['MoreErrorPlusComboNN']):\n",
    "    these_results=smoothed_results[model_name]\n",
    "    plt.figure(figsize=(5,5))\n",
    "    for s, scenario in enumerate(['AB1','AB2','AB3','AB4','AB5']):\n",
    "        y= these_results[scenario].u_lp\n",
    "        x = np.arange(len(y)) -playlist['AB0'][0][1]\n",
    "        bck_cut = playlist['AB0'][-1][1] - 120\n",
    "#         plt.subplot(1,3,1)\n",
    "        plt.plot(x[:-bck_cut],y[:-bck_cut], color=paper_colors[s],linewidth=4)\n",
    "        plt.ylabel(model_name)\n",
    "        plt.grid()"
   ]
  },
  {
   "cell_type": "code",
   "execution_count": null,
   "metadata": {},
   "outputs": [],
   "source": [
    "paper_colors = ['red','cyan', 'orange']\n",
    "antero_interval = 120\n",
    "for ii, model_name in enumerate(['MoreErrorPlusComboNN']):\n",
    "    these_results=smoothed_results[model_name]\n",
    "    plt.figure(figsize=(5,5))\n",
    "    for s, scenario in enumerate(['AB1','AB4','AB4r']):\n",
    "        y= these_results[scenario].u_lp\n",
    "        x = np.arange(len(y)) -playlist['AB0'][0][1]\n",
    "        bck_cut = playlist['AB0'][-1][1] - antero_interval\n",
    "#         plt.subplot(1,3,1)\n",
    "        if scenario == 'AB1':\n",
    "            t_part1 =  playlist['AB1'][0][1] + playlist['AB1'][1][1]\n",
    "            t_part1_4 =  playlist['AB4'][0][1] + playlist['AB4'][1][1]\n",
    "\n",
    "#             t_part2 =  playlist['AB1'][0][1] + playlist['AB1'][1][1]antero_interval\n",
    "            plt.plot(x[:t_part1],y[:t_part1], color=paper_colors[s],linewidth=4)\n",
    "            plt.plot(x[t_part1_4:t_part1_4+antero_interval],0.01+y[t_part1:t_part1+antero_interval], color=paper_colors[s],linewidth=4)\n",
    "            print('batata')\n",
    "        else:\n",
    "            plt.plot(x[:-bck_cut],y[:-bck_cut], color=paper_colors[s],linewidth=4)\n",
    "        plt.ylabel(model_name)\n",
    "        plt.grid()"
   ]
  },
  {
   "cell_type": "code",
   "execution_count": null,
   "metadata": {},
   "outputs": [],
   "source": [
    "playlist['AB1'][0][1], playlist['AB1'][1][1]"
   ]
  },
  {
   "cell_type": "code",
   "execution_count": null,
   "metadata": {},
   "outputs": [],
   "source": [
    "for ii, model_name in enumerate(['Smith','MoreErrorPlusComboNN']):\n",
    "    these_results=smoothed_results[model_name]\n",
    "    plt.figure(figsize=(15,5))\n",
    "    for s, scenario in enumerate(['AB0','AB1','AB2','AB3']):\n",
    "        y= these_results[scenario].u_lp\n",
    "        x = np.arange(len(y))\n",
    "        plt.subplot(1,3,1)\n",
    "        plt.plot(x,y, color=antero_colors[s])\n",
    "        plt.ylabel(model_name)\n",
    "        plt.subplot(1,3,2)\n",
    "        plt.semilogy(x,y-y[-100],color=antero_colors[s])\n",
    "        plt.subplot(1,3,3)\n",
    "        plt.plot(x[300:600-1], np.diff(np.log10(y[300:600]-y[-1])),color=antero_colors[s])"
   ]
  },
  {
   "cell_type": "markdown",
   "metadata": {},
   "source": [
    "# Ensuring that boiling-frog effect does not show up for longer adaptations "
   ]
  },
  {
   "cell_type": "code",
   "execution_count": null,
   "metadata": {},
   "outputs": [],
   "source": [
    "plt.figure(figsize=(18,9))\n",
    "for rr, (name, these_results) in enumerate(frog_results.items()):\n",
    "    for f in range(3):\n",
    "        plt.subplot(3,3,3*rr+f+1)\n",
    "        plot_by_key(these_results, [f'frogs{f}',f'anti_frogs{f}'],visu_offsets = [0, 0.00])\n",
    "        plt.xlabel('epochs')\n",
    "        plt.ylabel('u(epoch) [au]')"
   ]
  },
  {
   "cell_type": "code",
   "execution_count": null,
   "metadata": {},
   "outputs": [],
   "source": [
    "for ii, model_name in enumerate(['Smith','someNN']):\n",
    "    these_results=results[model_name]\n",
    "    plt.figure(figsize=(15,5))\n",
    "    for s, scenario in enumerate(['savings']):\n",
    "        y= these_results[scenario].u_lp\n",
    "        x = np.arange(len(y))\n",
    "#         plt.subplot(1,3,1)\n",
    "        plt.plot(x,y, color=antero_colors[s])\n",
    "        plt.plot(x,y,'x', color=antero_colors[s])\n",
    "        plt.ylabel(model_name)\n"
   ]
  },
  {
   "cell_type": "code",
   "execution_count": null,
   "metadata": {},
   "outputs": [],
   "source": [
    "len({})"
   ]
  },
  {
   "cell_type": "code",
   "execution_count": null,
   "metadata": {},
   "outputs": [],
   "source": []
  }
 ],
 "metadata": {
  "accelerator": "GPU",
  "colab": {
   "authorship_tag": "ABX9TyO5YH1iC300IMOgPX5AQBGV",
   "gpuType": "L4",
   "machine_shape": "hm",
   "provenance": [
    {
     "file_id": "1K9Yp_QU1fwu5WigfPtqTYBwST-fydGrD",
     "timestamp": 1729694298886
    },
    {
     "file_id": "1sXHlF7j2RSb4-ZbcY0AtmwDIhsYYdzKP",
     "timestamp": 1729688246445
    },
    {
     "file_id": "1F4YwnHiy2zUvNkfRSpW0eAEb1TsXPzqW",
     "timestamp": 1729526683729
    },
    {
     "file_id": "1fvRTwlfXBy9ZVaZh1OZgwfw2qWvuG0zk",
     "timestamp": 1729514567145
    },
    {
     "file_id": "1gOPlIVyl2DIdmz0FgHPQF8k-Abm0y9M2",
     "timestamp": 1729446099556
    },
    {
     "file_id": "16KulXUCkIg-0lwihg0NnjJ83OPJaAi-6",
     "timestamp": 1729373011856
    },
    {
     "file_id": "1VLDnNO-BroeZhRAb1oshtOu2QiD5K-NR",
     "timestamp": 1729369960080
    },
    {
     "file_id": "1oZif11nCfrE2Zjc9K5K5a1nXxf1fN-CM",
     "timestamp": 1729367798990
    },
    {
     "file_id": "1RVVWtyW9Odh18e4DAAgGPfyjn1TpYoIv",
     "timestamp": 1729089851812
    },
    {
     "file_id": "1yB6gnnZbBR48VFzcj8HGpd90WraXxGZc",
     "timestamp": 1729089440659
    },
    {
     "file_id": "1MSTBs5TPRXKv9H9OZKWTJwfOp-pOczyC",
     "timestamp": 1729085768950
    },
    {
     "file_id": "18G3pU6LRmoGT17ZNtcQizDGxQSHWjGjf",
     "timestamp": 1729081864018
    },
    {
     "file_id": "1jKpXbyiLuS3Jl06Ch3HfLzSb5UjtH19l",
     "timestamp": 1729081013302
    },
    {
     "file_id": "1I1DZX1l51pLobbRr--6nWx7iIbncy1bT",
     "timestamp": 1729006548457
    },
    {
     "file_id": "1ojvKUWJAryb2769MlrOa9RRRvsxG1r6y",
     "timestamp": 1728909680764
    },
    {
     "file_id": "15JkV9okYMtvTdp8TKjVzVx57lR0dUdwD",
     "timestamp": 1728592718499
    },
    {
     "file_id": "1vR84bLxUv70s2kwd9U1vAZF-_yt5Zuce",
     "timestamp": 1728513316514
    },
    {
     "file_id": "1q8W_SLk1OxYmk1jLgKNgbUG49ti-1nkP",
     "timestamp": 1727113306590
    },
    {
     "file_id": "1AWJ_FrAlS2fX_mBeTozla2UybMSf1-Ba",
     "timestamp": 1726525408948
    },
    {
     "file_id": "1tK2z2O8U7U4zjih2CQGKdzWinj4h9KLw",
     "timestamp": 1726233256409
    },
    {
     "file_id": "1ugGvMO1uwvid4PtrkacHJekDmryYoKNE",
     "timestamp": 1726225644033
    },
    {
     "file_id": "1IxWzHdunAJBQI_H8iJCOCb4AFAgYWIyZ",
     "timestamp": 1726219170577
    },
    {
     "file_id": "1abVXbRzq9a9h9PzbmzpI-pySxb2OZqgm",
     "timestamp": 1721118285813
    }
   ]
  },
  "kernelspec": {
   "display_name": "Python 3 (ipykernel)",
   "language": "python",
   "name": "python3"
  },
  "language_info": {
   "codemirror_mode": {
    "name": "ipython",
    "version": 3
   },
   "file_extension": ".py",
   "mimetype": "text/x-python",
   "name": "python",
   "nbconvert_exporter": "python",
   "pygments_lexer": "ipython3",
   "version": "3.8.13"
  }
 },
 "nbformat": 4,
 "nbformat_minor": 1
}
