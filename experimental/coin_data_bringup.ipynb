{
 "cells": [
  {
   "cell_type": "code",
   "execution_count": 16,
   "id": "375ad080",
   "metadata": {},
   "outputs": [],
   "source": [
    "import pandas as pd\n",
    "import matplotlib.pyplot as plt\n",
    "import numpy as np\n",
    "import scipy.io\n",
    "import sys\n"
   ]
  },
  {
   "cell_type": "code",
   "execution_count": 17,
   "id": "614b1dab",
   "metadata": {},
   "outputs": [],
   "source": [
    "PROJ_ROOT = '/homes/ar2342/one_more_dir/contextual_frogs/'"
   ]
  },
  {
   "cell_type": "code",
   "execution_count": 18,
   "id": "5a849434",
   "metadata": {},
   "outputs": [],
   "source": [
    "paradigms = ['spontaneous','evoked']\n",
    "\n",
    "dfs = {paradigm:{} for paradigm in paradigms}\n",
    "for paradigm in paradigms:\n",
    "    for i in range(1,9):\n",
    "        dfs[paradigm][i] = pd.read_csv(f'{PROJ_ROOT}/../../frogs_project/data/COIN_data/trial_data_{paradigm}_recovery_participant{i}.csv')\n"
   ]
  },
  {
   "cell_type": "code",
   "execution_count": 19,
   "id": "1c0ba96f",
   "metadata": {},
   "outputs": [],
   "source": [
    "for paradigm in paradigms:\n",
    "    print(f'\\n\\n {paradigm}:')\n",
    "    for name in list(dict.fromkeys(dfs[paradigm][2].BlockName)):\n",
    "        print(f'trials in block {name}: {sum(dfs[paradigm][2].BlockName == name)}')"
   ]
  },
  {
   "cell_type": "code",
   "execution_count": 20,
   "id": "e79746a5",
   "metadata": {},
   "outputs": [],
   "source": [
    "all_ys ={paradigm:[] for paradigm in paradigms}\n",
    "for paradigm, these_dfs in dfs.items():\n",
    "    for i, df in these_dfs.items():\n",
    "        y = df.Adaptation.to_numpy()\n",
    "        y *= np.sign(np.nansum(y))\n",
    "        x = df.TrialNumber.to_numpy()\n",
    "        all_ys[paradigm].append(y)\n"
   ]
  },
  {
   "cell_type": "code",
   "execution_count": 21,
   "id": "2d7eee7a",
   "metadata": {
    "scrolled": false
   },
   "outputs": [],
   "source": [
    "cnt = 1\n",
    "plt.figure(figsize=(20,20))\n",
    "for paradigm, these_dfs in dfs.items():\n",
    "    for i, df in these_dfs.items():\n",
    "        plt.subplot(4,4,cnt)\n",
    "        y = df.Adaptation.to_numpy()\n",
    "        y *= np.sign(np.nansum(y))\n",
    "        x = df.TrialNumber.to_numpy()\n",
    "        plt.plot(x, y,'x')\n",
    "        plt.ylim([-0.5,1.1])\n",
    "        plt.grid()\n",
    "        #text box with the name of the paradigm and the participant's number\n",
    "        plt.text(0.5, 0.1, f'{paradigm} {i}', \n",
    "                 horizontalalignment='center', verticalalignment='center', transform=plt.gca().transAxes, fontsize=12,\n",
    "                 bbox=dict(facecolor='orange', alpha=0.3))\n",
    "        cnt += 1"
   ]
  },
  {
   "cell_type": "code",
   "execution_count": 22,
   "id": "70ba9683",
   "metadata": {},
   "outputs": [],
   "source": [
    "all_ys = {paradigm:np.array(all_ys[paradigm]) for paradigm in paradigms}"
   ]
  },
  {
   "cell_type": "code",
   "execution_count": 23,
   "id": "a59432d1",
   "metadata": {},
   "outputs": [],
   "source": [
    "plt.plot(np.nanmean(all_ys['spontaneous'],axis=0),'r.')\n",
    "plt.plot(np.nanmean(all_ys['evoked'],axis=0),'b.')\n",
    "plt.grid()"
   ]
  },
  {
   "cell_type": "code",
   "execution_count": 24,
   "id": "fa280faa",
   "metadata": {},
   "outputs": [],
   "source": [
    "#save mean data to csv file\n",
    "#create x vector for each of the two paradigms\n",
    "y_mean_spontaneous = np.nanmean(all_ys['spontaneous'],axis=0)\n",
    "y_mean_evoked = np.nanmean(all_ys['evoked'],axis=0)\n",
    "x_spontaneous = np.arange(y_mean_spontaneous.shape[0])\n",
    "x_evoked = np.arange(y_mean_evoked.shape[0])\n",
    "np.savetxt(f'{PROJ_ROOT}/experimental/coin_spontaneous_mean.csv', np.concatenate([x_spontaneous, y_mean_spontaneous]).reshape(2,-1).T, delimiter=',')\n",
    "np.savetxt(f'{PROJ_ROOT}/experimental/coin_evoked_mean.csv', np.concatenate([x_evoked, y_mean_evoked]).reshape(2,-1).T, delimiter=',')"
   ]
  },
  {
   "cell_type": "code",
   "execution_count": 25,
   "id": "cea8b92e",
   "metadata": {},
   "outputs": [],
   "source": [
    "plt.plot(np.nanmean(all_ys['spontaneous'],axis=0),'r.')\n",
    "plt.plot(np.nanmean(all_ys['evoked'],axis=0),'b.')\n",
    "plt.xlim([50,100])\n",
    "plt.grid()"
   ]
  },
  {
   "cell_type": "code",
   "execution_count": 26,
   "id": "27bcb143",
   "metadata": {},
   "outputs": [],
   "source": [
    "cnt = 1\n",
    "plt.figure(figsize=(20,20))\n",
    "for paradigm, these_dfs in dfs.items():\n",
    "    for i, df in these_dfs.items():\n",
    "        plt.subplot(4,4,cnt)\n",
    "        y = df.Adaptation.to_numpy()\n",
    "        y *= np.sign(np.nansum(y))\n",
    "        x = df.TrialNumber.to_numpy()\n",
    "        plt.plot(x, y,'x')\n",
    "        plt.ylim([-0.5,1.1])\n",
    "        plt.grid()\n",
    "        #text box with the name of the paradigm and the participant's number\n",
    "        plt.text(0.5, 0.1, f'{paradigm} {i}', \n",
    "                 horizontalalignment='center', verticalalignment='center', transform=plt.gca().transAxes, fontsize=12,\n",
    "                 bbox=dict(facecolor='orange', alpha=0.3))\n",
    "        cnt += 1"
   ]
  },
  {
   "cell_type": "code",
   "execution_count": 27,
   "id": "580f95e0",
   "metadata": {},
   "outputs": [],
   "source": [
    "cnt = 1\n",
    "plt.figure(figsize=(20,20))\n",
    "for paradigm, these_dfs in dfs.items():\n",
    "    for i, df in these_dfs.items():\n",
    "        plt.subplot(4,4,cnt)\n",
    "        y = df.Adaptation.to_numpy()\n",
    "        y *= np.sign(np.nansum(y))\n",
    "        x = df.TrialNumber.to_numpy()\n",
    "        plt.plot(x, y,'x')\n",
    "        plt.ylim([-2,2])\n",
    "        plt.grid()\n",
    "        #text box with the name of the paradigm and the participant's number\n",
    "        plt.text(0.5, 0.1, f'{paradigm} {i}', \n",
    "                 horizontalalignment='center', verticalalignment='center', transform=plt.gca().transAxes, fontsize=12,\n",
    "                 bbox=dict(facecolor='orange', alpha=0.3))\n",
    "        cnt += 1"
   ]
  },
  {
   "cell_type": "code",
   "execution_count": 33,
   "id": "6254b54c",
   "metadata": {},
   "outputs": [],
   "source": [
    "cnt = 1\n",
    "sat_adapt_rec = []\n",
    "anter_rec = []\n",
    "plt.figure(figsize=(20,20))\n",
    "for paradigm, these_dfs in dfs.items():\n",
    "    for i, df in these_dfs.items():\n",
    "        plt.subplot(4,4,cnt)\n",
    "        y = df.Adaptation.to_numpy()\n",
    "        y *= np.sign(np.nansum(y))\n",
    "        x = df.TrialNumber.to_numpy()\n",
    "        plt.plot(x, y,'x')\n",
    "\n",
    "\n",
    "        sat_adapt_x, sat_adapt_y = x[150:190], y[150:190]\n",
    "        anter_x, anter_y = x[190], y[190]\n",
    "        \n",
    "        plt.plot(anter_x, anter_y,'ro',alpha=0.3, markersize=10)  # mark the 190th trial\n",
    "        plt.plot(sat_adapt_x, sat_adapt_y,'go',alpha=0.3, markersize=10)  # mark the 190th trial\n",
    "        sat_adapt_rec.append(np.nanmean(sat_adapt_y))\n",
    "        anter_rec.append(anter_y)\n",
    "        plt.ylim([-2,2])\n",
    "        plt.grid()\n",
    "        #text box with the name of the paradigm and the participant's number\n",
    "        plt.text(0.5, 0.1, f'{paradigm} {i}', \n",
    "                 horizontalalignment='center', verticalalignment='center', transform=plt.gca().transAxes, fontsize=12,\n",
    "                 bbox=dict(facecolor='orange', alpha=0.3))\n",
    "        cnt += 1"
   ]
  },
  {
   "cell_type": "code",
   "execution_count": 36,
   "id": "179f30bf",
   "metadata": {},
   "outputs": [],
   "source": [
    "plt.plot(sat_adapt_rec, anter_rec ,'o')"
   ]
  },
  {
   "cell_type": "code",
   "execution_count": 38,
   "id": "b234a90c",
   "metadata": {},
   "outputs": [],
   "source": [
    "from scipy.stats import pearsonr,spearmanr\n",
    "corr, p_value = pearsonr(sat_adapt_rec, anter_rec)\n",
    "print(f'Pearson correlation between sat_adapt_rec and anter_rec: {corr}, p-value: {p_value}')\n",
    "\n",
    "corr, p_value = spearmanr(sat_adapt_rec, anter_rec)\n",
    "print(f'Spearman correlation between sat_adapt_rec and anter_rec: {corr}, p-value: {p_value}')"
   ]
  },
  {
   "cell_type": "code",
   "execution_count": 39,
   "id": "811ccf86",
   "metadata": {},
   "outputs": [],
   "source": [
    "y_mean_spontaneous = np.nanmean(all_ys['spontaneous'],axis=0)\n",
    "y_mean_evoked = np.nanmean(all_ys['evoked'],axis=0)\n",
    "x_spontaneous = np.arange(y_mean_spontaneous.shape[0])\n",
    "x_evoked = np.arange(y_mean_evoked.shape[0])\n",
    "\n",
    "plt.plot(x_spontaneous, y_mean_spontaneous,'r.')\n",
    "plt.plot(x_evoked, y_mean_evoked,'b.')\n",
    "plt.xlim([50,100])\n",
    "plt.grid()\n",
    "\n",
    "plt.show()"
   ]
  },
  {
   "cell_type": "code",
   "execution_count": null,
   "id": "5604c10d",
   "metadata": {},
   "outputs": [],
   "source": []
  }
 ],
 "metadata": {
  "kernelspec": {
   "display_name": "Python 3 (ipykernel)",
   "language": "python",
   "name": "python3"
  }
 },
 "nbformat": 4,
 "nbformat_minor": 5
}
