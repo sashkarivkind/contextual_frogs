{
 "cells": [
  {
   "cell_type": "code",
   "execution_count": 1,
   "id": "527e87ed",
   "metadata": {},
   "outputs": [],
   "source": [
    "import sys\n",
    "\n",
    "# Specify the directory you want to add\n",
    "custom_path = './..'\n",
    "\n",
    "# Add the directory to sys.path\n",
    "if custom_path not in sys.path:\n",
    "    sys.path.append(custom_path)"
   ]
  },
  {
   "cell_type": "code",
   "execution_count": 2,
   "id": "b32e9b75",
   "metadata": {},
   "outputs": [
    {
     "name": "stderr",
     "output_type": "stream",
     "text": [
      "/opt/conda/lib/python3.8/site-packages/tqdm/auto.py:22: TqdmWarning: IProgress not found. Please update jupyter and ipywidgets. See https://ipywidgets.readthedocs.io/en/stable/user_install.html\n",
      "  from .autonotebook import tqdm as notebook_tqdm\n"
     ]
    }
   ],
   "source": [
    "from __future__ import absolute_import\n",
    "import importlib\n",
    "\n",
    "\n",
    "import numpy as np\n",
    "import pandas as pd\n",
    "import matplotlib.pyplot as plt\n",
    "\n",
    "\n",
    "from models import MLP, OneOverSqr\n",
    "from runners import wrap_runner_for_optimization\n",
    "from fitting_utils import create_fitting_loss"
   ]
  },
  {
   "cell_type": "code",
   "execution_count": 3,
   "id": "34114efb",
   "metadata": {},
   "outputs": [],
   "source": [
    "\n",
    "\n",
    "def scale_and_bias(x,bias=0,scale=45.0):\n",
    "    x = np.array(x)\n",
    "    return x*scale + bias\n",
    "#to sweep\n",
    "fixed_params={}\n",
    "fixed_params['model'] =  dict(n_inputs = 3,\n",
    "        n_hidden = 5*4*512,\n",
    "        n_outs = 1,\n",
    "        en_bias = False,\n",
    "        b_high=3, first_layer_init='uniform_unity',\n",
    "        first_layer_weights_trainable = True,\n",
    "        out_layer_init='zeros')         \n",
    "\n",
    "fixed_params['runner'] = {'criterion':'MSE', 'k':[0,1,0], 'sigma_noi':0.0, 'tau_u':1,\n",
    "                        'save_model_at_init':False, 'ic_param_file':None}\n",
    "\n",
    "optim_param_mapping= [('custom','normalized_log_lr'),\n",
    "                    ('model','skip_gain'),                      \n",
    "                    ('custom','w'),\n",
    "                    ('postprocessing','scale'),\n",
    "                    ('custom', 'k1'),\n",
    "                    ('custom', 'k3'),\n",
    "                    ]\n",
    "\n",
    "custom_param_mappings = [{'cathegory':'runner','param_name':'learning_rate',\n",
    "                        'fun': lambda x: 10.**x['normalized_log_lr']/x['w']},\n",
    "                        {'cathegory':'runner','param_name':'k',\n",
    "                        'fun': lambda x: [x['k1'],0,x['k3']]},\n",
    "                        {'cathegory':'model','param_name':'nl','fun': lambda x: (lambda : OneOverSqr(w=x['w']))}]\n",
    "\n",
    "\n",
    "\n",
    "wrapped_runner = wrap_runner_for_optimization(model_class=MLP, \n",
    "                                             fixed_params=fixed_params,\n",
    "                                             optim_params_mapping=optim_param_mapping,\n",
    "                                             custom_param_mappings=custom_param_mappings, \n",
    "                                             postprocessing_fun=scale_and_bias)\n"
   ]
  },
  {
   "cell_type": "code",
   "execution_count": 4,
   "id": "e7453681",
   "metadata": {},
   "outputs": [],
   "source": [
    "df = pd.read_csv('../../../frogs_project/data/avraham__ivry_fig1_rotFig1_v2.csv',header=None)\n",
    "df = df.T\n",
    "data = df.to_numpy()"
   ]
  },
  {
   "cell_type": "code",
   "execution_count": 5,
   "id": "96c5f02f",
   "metadata": {},
   "outputs": [],
   "source": [
    "stimulus = [(1,40),(0,41)]\n",
    "datapoint_mapping={'data':lambda x:x, 'model_output': lambda x:x[1:]} #a hack that mitigates the fact that first perturbatrion datapoint is 'responsive'\n",
    "\n",
    "pooling_funs = ['MSE'] #,'MAE']"
   ]
  },
  {
   "cell_type": "code",
   "execution_count": 6,
   "id": "918e5c9d",
   "metadata": {},
   "outputs": [],
   "source": [
    "fitting_loss = {pooling_fun : create_fitting_loss(data=data[:80,0],stimulus=stimulus,wrapped_model=wrapped_runner,\n",
    "                    pooling_fun=pooling_fun,\n",
    "                    datapoint_mapping=datapoint_mapping,\n",
    "                    weighting=None) for pooling_fun in pooling_funs}\n"
   ]
  },
  {
   "cell_type": "code",
   "execution_count": 7,
   "id": "1ce624bc",
   "metadata": {},
   "outputs": [],
   "source": [
    "from scipy.optimize import minimize, basinhopping"
   ]
  },
  {
   "cell_type": "code",
   "execution_count": 8,
   "id": "58715b73",
   "metadata": {},
   "outputs": [],
   "source": [
    "# x0 = [-4.5,0.4,0.5, 40]\n",
    "# bounds = [(-5.5,-4),(-0.9,0.99), (0.05,3), (10,90)]\n",
    "# # bounds = [(-5.5,-4),(-0.9,0.99), (0.4,3), (20,50)]\n",
    "\n",
    "x0 = [-4.5,0.4,0.5, 40, 1, 1]\n",
    "bounds = [(-6,-3),(-0.9,0.99), (0.05,3), (10,90), (0,2), (0,2)]"
   ]
  },
  {
   "cell_type": "code",
   "execution_count": 9,
   "id": "3dfe3b5d",
   "metadata": {},
   "outputs": [],
   "source": [
    "out = wrapped_runner([(0,40),(1,40)]*3,x0)"
   ]
  },
  {
   "cell_type": "code",
   "execution_count": 10,
   "id": "52217833",
   "metadata": {},
   "outputs": [],
   "source": [
    "opt_out = {}\n",
    "\n",
    "def print_fun(x, f, accepted):\n",
    "        print(\"at minimum %.4f accepted %d  with params %s\" % (f, int(accepted), str(x)))"
   ]
  },
  {
   "cell_type": "code",
   "execution_count": 11,
   "id": "fcdd2181",
   "metadata": {},
   "outputs": [],
   "source": [
    "# res = minimize(fitting_loss, x0, method='nelder-mead', bounds= bounds,\n",
    "#                options={'xatol': 1e-6, 'disp': True})\n",
    "\n",
    "# def print_fun(x, f, accepted):\n",
    "#         print(\"at minimum %.4f accepted %d\" % (f, int(accepted)))\n",
    "# res = basinhopping(fitting_loss, x0, \n",
    "#                    minimizer_kwargs = dict(method='nelder-mead', options={'xatol': 1e-6, 'disp': True, 'bounds':bounds}),\n",
    "#                    callback=print_fun)\n",
    "# \n",
    "\n",
    "\n",
    "\n",
    "\n",
    "# res = basinhopping(fitting_loss, x0, \n",
    "#                    minimizer_kwargs = dict(method='L-BFGS-B', bounds= bounds),\n",
    "#                    callback=print_fun)\n",
    "# method='L-BFGS-B', bounds= bounds,"
   ]
  },
  {
   "cell_type": "code",
   "execution_count": 12,
   "id": "2c60289c",
   "metadata": {},
   "outputs": [],
   "source": [
    "# opt_out['MSE'] = res"
   ]
  },
  {
   "cell_type": "code",
   "execution_count": 13,
   "id": "1336c3bc",
   "metadata": {},
   "outputs": [
    {
     "name": "stdout",
     "output_type": "stream",
     "text": [
      "at minimum 299.6026 accepted 1  with params [-4.49999994  0.40000002  0.50000009 40.00000184  1.00000004  1.00000004]\n",
      "at minimum 386.6875 accepted 0  with params [-4.24576374  0.49907891  0.97641212 40.35401086  1.08278534  0.77422177]\n",
      "at minimum 274.5158 accepted 1  with params [-4.95440679  0.41199707  0.18597428 40.25998328  1.2820405   1.41543078]\n"
     ]
    }
   ],
   "source": [
    "pooling_fun = pooling_funs[-1]\n",
    "opt_out[pooling_fun] = basinhopping(fitting_loss[pooling_fun], x0, niter=2,\n",
    "                   minimizer_kwargs = dict(method='L-BFGS-B', bounds= bounds),\n",
    "                   callback=print_fun)"
   ]
  },
  {
   "cell_type": "code",
   "execution_count": null,
   "id": "de09b5fd",
   "metadata": {},
   "outputs": [
    {
     "name": "stderr",
     "output_type": "stream",
     "text": [
      "/opt/conda/lib/python3.8/site-packages/scipy/optimize/_minimize.py:535: RuntimeWarning: Method nelder-mead cannot handle constraints nor bounds.\n",
      "  warn('Method %s cannot handle constraints nor bounds.' % method,\n"
     ]
    },
    {
     "name": "stdout",
     "output_type": "stream",
     "text": [
      "at minimum 220.3084 accepted 1  with params [-4.67669815e+00  1.14252062e-02  9.08974528e-01  3.51182078e+01\n",
      "  1.11279349e+00 -9.71994849e-02]\n",
      "at minimum 223.2524 accepted 0  with params [-4.7943921   0.37579662  0.52253953 35.12008081  0.60919124  0.27790259]\n",
      "at minimum 223.3672 accepted 1  with params [-4.70382767  0.12422999  0.6260617  34.58722997  1.37312122  0.37098691]\n"
     ]
    }
   ],
   "source": [
    "opt_out[(pooling_fun,'nelder-mead')] = basinhopping(fitting_loss[pooling_fun], x0, \n",
    "                   minimizer_kwargs = dict(method='nelder-mead', bounds= bounds),\n",
    "                   callback=print_fun)"
   ]
  },
  {
   "cell_type": "code",
   "execution_count": null,
   "id": "d802c023",
   "metadata": {},
   "outputs": [],
   "source": [
    "fitting_loss['MAE'](x0), fitting_loss['MSE'](x0)"
   ]
  },
  {
   "cell_type": "code",
   "execution_count": null,
   "id": "491fb94f",
   "metadata": {},
   "outputs": [],
   "source": [
    "res"
   ]
  },
  {
   "cell_type": "code",
   "execution_count": null,
   "id": "49692a48",
   "metadata": {},
   "outputs": [],
   "source": [
    "opt_out"
   ]
  },
  {
   "cell_type": "code",
   "execution_count": null,
   "id": "f447d3d0",
   "metadata": {},
   "outputs": [],
   "source": [
    "outs  = {pooling_fun: wrapped_runner([(1,40),(0,40),(1,40)],opt_out[pooling_fun]['x']) for pooling_fun in pooling_funs}"
   ]
  },
  {
   "cell_type": "code",
   "execution_count": null,
   "id": "eb5e71a0",
   "metadata": {},
   "outputs": [],
   "source": [
    "appendix = ('MAE',  'nelder-mead')\n",
    "outs[appendix] = wrapped_runner([(1,40),(0,40),(1,40)],opt_out[appendix]['x'])"
   ]
  },
  {
   "cell_type": "code",
   "execution_count": null,
   "id": "abf8d51c",
   "metadata": {},
   "outputs": [],
   "source": [
    "for setting in pooling_funs +[appendix]:\n",
    "    plt.plot(outs[setting])\n",
    "plt.plot(data[:,0],'.')\n",
    "plt.plot(data[:80,0],'.')\n",
    "plt.plot(smooth_signal(data[:,0],3))\n"
   ]
  },
  {
   "cell_type": "code",
   "execution_count": null,
   "id": "33af04d5",
   "metadata": {},
   "outputs": [],
   "source": [
    "for setting in pooling_funs +[appendix]:\n",
    "    plt.plot(outs[setting])\n",
    "plt.plot(data[:,0],'x')\n",
    "plt.plot(data[:80,0],'x')\n",
    "\n",
    "plt.xlim([39,120])\n",
    "plt.ylim([-5,60])\n"
   ]
  },
  {
   "cell_type": "code",
   "execution_count": null,
   "id": "bec8c790",
   "metadata": {},
   "outputs": [],
   "source": [
    "mae = lambda x: np.mean(np.abs(x))\n",
    "mse = lambda x: np.mean(np.square(x))\n"
   ]
  },
  {
   "cell_type": "code",
   "execution_count": null,
   "id": "e3bda675",
   "metadata": {},
   "outputs": [],
   "source": [
    "for setting in pooling_funs +[appendix]:\n",
    "    fit_err = outs[setting][:80] - data[:80,0]\n",
    "    val_err = outs[setting][80:] - data[80:,0]\n",
    "    print(f'fit objective: {setting}')\n",
    "    print(f' fitting MAE: {mae(fit_err)}; MSE: {mse(fit_err)}')\n",
    "    print(f' validation MAE: {mae(val_err)}; MSE: {mse(val_err)}')"
   ]
  },
  {
   "cell_type": "code",
   "execution_count": null,
   "id": "fff436fa",
   "metadata": {},
   "outputs": [],
   "source": [
    "import scipy\n",
    "scipy.__version__"
   ]
  },
  {
   "cell_type": "code",
   "execution_count": null,
   "id": "72ab2a04",
   "metadata": {},
   "outputs": [],
   "source": [
    "# !pip3 install --upgrade pip"
   ]
  },
  {
   "cell_type": "code",
   "execution_count": null,
   "id": "c461aabe",
   "metadata": {},
   "outputs": [],
   "source": [
    "# pip install --upgrade scipy"
   ]
  },
  {
   "cell_type": "code",
   "execution_count": null,
   "id": "5075182d",
   "metadata": {},
   "outputs": [],
   "source": [
    "from dsp_utils import smooth_signal"
   ]
  },
  {
   "cell_type": "code",
   "execution_count": null,
   "id": "cacec44e",
   "metadata": {},
   "outputs": [],
   "source": [
    "import pickle"
   ]
  },
  {
   "cell_type": "code",
   "execution_count": null,
   "id": "ef2e4e1f",
   "metadata": {},
   "outputs": [],
   "source": [
    "with open('sweep_1_subj_12.pkl','rb') as f:\n",
    "    opt_data = pickle.load(f)"
   ]
  },
  {
   "cell_type": "code",
   "execution_count": null,
   "id": "e5e7f84a",
   "metadata": {},
   "outputs": [],
   "source": [
    "opt_data"
   ]
  },
  {
   "cell_type": "code",
   "execution_count": null,
   "id": "77ed11bf",
   "metadata": {},
   "outputs": [],
   "source": []
  }
 ],
 "metadata": {
  "kernelspec": {
   "display_name": "Python 3 (ipykernel)",
   "language": "python",
   "name": "python3"
  },
  "language_info": {
   "codemirror_mode": {
    "name": "ipython",
    "version": 3
   },
   "file_extension": ".py",
   "mimetype": "text/x-python",
   "name": "python",
   "nbconvert_exporter": "python",
   "pygments_lexer": "ipython3",
   "version": "3.8.13"
  }
 },
 "nbformat": 4,
 "nbformat_minor": 5
}
