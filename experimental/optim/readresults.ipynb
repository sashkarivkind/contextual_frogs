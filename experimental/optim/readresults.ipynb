{
 "cells": [
  {
   "cell_type": "code",
   "execution_count": 19,
   "id": "258929e6",
   "metadata": {},
   "outputs": [],
   "source": [
    "import pandas as pd\n",
    "import numpy as np\n",
    "import matplotlib.pyplot as plt\n",
    "from pathlib import Path\n",
    "import torch\n",
    "import json"
   ]
  },
  {
   "cell_type": "code",
   "execution_count": 20,
   "id": "2282b88f",
   "metadata": {},
   "outputs": [],
   "source": [
    "result_dirs = ['/homes/ar2342/one_more_dir/contextual_frogs/experimental/optim/results/tempBanana2']"
   ]
  },
  {
   "cell_type": "code",
   "execution_count": 21,
   "id": "eef8ea3e",
   "metadata": {},
   "outputs": [
    {
     "name": "stdout",
     "output_type": "stream",
     "text": [
      "Reading results from /homes/ar2342/one_more_dir/contextual_frogs/experimental/optim/results/tempBanana2\n"
     ]
    },
    {
     "data": {
      "image/png": "[encoded data removed]",
      "text/plain": [
       "<Figure size 640x480 with 1 Axes>"
      ]
     },
     "metadata": {},
     "output_type": "display_data"
    }
   ],
   "source": [
    "for result_dir in result_dirs:\n",
    "    print(f\"Reading results from {result_dir}\")\n",
    "    loss_df = pd.read_csv(f\"{result_dir}/loss.csv\", names=['iteration', 'loss'])\n",
    "    log_df = pd.read_csv(f\"{result_dir}/log.csv\", names=['iteration', 'loss', 'log_likelihood', 'kl_divergence'])\n",
    "    reference_density = np.genfromtxt(f\"{result_dir}/toysynth_density.txt\")\n",
    "    #load params.pt\n",
    "    opt_params = torch.load(f\"{result_dir}/params.pt\")\n",
    "    with open(f\"{result_dir}/config.json\", 'r') as f:\n",
    "        config = json.load(f)\n",
    "    \n",
    "    # print(\"Loss DataFrame:\")\n",
    "    # print(loss_df.head())\n",
    "    \n",
    "    # print(\"\\nLog DataFrame:\")\n",
    "    # print(log_df.head())\n",
    "    \n",
    "    # # Example analysis: Calculate mean loss and log likelihood\n",
    "    # mean_loss = loss_df['loss'].mean()\n",
    "    # mean_log_likelihood = log_df['log_likelihood'].mean()\n",
    "    \n",
    "    # print(f\"\\nMean Loss: {mean_loss}\")\n",
    "    # print(f\"Mean Log Likelihood: {mean_log_likelihood}\")\n",
    "    plt.plot(loss_df['iteration'], loss_df['loss'], label='Loss')\n",
    "    plt.plot(loss_df['iteration'], -np.ones_like(loss_df['iteration'])*reference_density, label='Log Likelihood')\n",
    "    plt.ylim(-reference_density - 10, reference_density )\n"
   ]
  },
  {
   "cell_type": "code",
   "execution_count": 24,
   "id": "181cc604",
   "metadata": {},
   "outputs": [],
   "source": [
    "opt_params_numpy = {k: v.cpu().numpy() for k, v in opt_params.items()}"
   ]
  },
  {
   "cell_type": "code",
   "execution_count": 26,
   "id": "a87a5f1c",
   "metadata": {},
   "outputs": [
    {
     "data": {
      "text/plain": [
       "(array([0.09771755], dtype=float32), array([0.05134301], dtype=float32))"
      ]
     },
     "execution_count": 26,
     "metadata": {},
     "output_type": "execute_result"
    }
   ],
   "source": [
    "opt_params_numpy['gen.sigma_a'], opt_params_numpy['gen.sigma_x']\n",
    "\n"
   ]
  },
  {
   "cell_type": "code",
   "execution_count": 27,
   "id": "d6d95127",
   "metadata": {},
   "outputs": [
    {
     "data": {
      "text/plain": [
       "{'out_dir': 'results/tempBanana2/',\n",
       " 'data': '/homes/ar2342/scratch/sasha-model-optimization/_data_er5/test',\n",
       " 'model': 'toy',\n",
       " 'klmethod': 'analytical',\n",
       " 'reuse': None,\n",
       " 'cuda_index': 1,\n",
       " 'bs': 512,\n",
       " 'n': 128,\n",
       " 't_episode': 100,\n",
       " 'max_iter': 10000,\n",
       " 'enable_kl_grad': True,\n",
       " 'print_params': False,\n",
       " 'save_matrices_every': 1000,\n",
       " 'toydata_OUphi': 0.9,\n",
       " 'toydata_OUsigma_process': 0.05,\n",
       " 'toydata_OUsigma_obs': 0.1,\n",
       " 'toymodel_OUphi': 0.9,\n",
       " 'toymodel_OUsigma_process': 0.05,\n",
       " 'toymodel_OUsigma_obs': 0.1,\n",
       " 'optimize_toy_noises': True}"
      ]
     },
     "execution_count": 27,
     "metadata": {},
     "output_type": "execute_result"
    }
   ],
   "source": [
    "config"
   ]
  },
  {
   "cell_type": "code",
   "execution_count": null,
   "id": "f0f89d2d",
   "metadata": {},
   "outputs": [],
   "source": []
  }
 ],
 "metadata": {
  "kernelspec": {
   "display_name": "Python 3 (ipykernel)",
   "language": "python",
   "name": "python3"
  }
 },
 "nbformat": 4,
 "nbformat_minor": 5
}
