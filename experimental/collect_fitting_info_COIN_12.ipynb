{
 "cells": [
  {
   "cell_type": "code",
   "execution_count": 70,
   "id": "527e87ed",
   "metadata": {},
   "outputs": [],
   "source": [
    "import os\n",
    "if 'ROOT_PATH' in os.environ:\n",
    "    ROOT_PATH = os.environ['ROOT_PATH']\n",
    "else:\n",
    "    ROOT_PATH = '/homes/ar2342/one_more_dir/contextual_frogs/'\n",
    "    os.environ['ROOT_PATH'] = ROOT_PATH\n",
    "    \n",
    "import sys\n",
    "sys.path.append(ROOT_PATH)"
   ]
  },
  {
   "cell_type": "code",
   "execution_count": null,
   "id": "5075182d",
   "metadata": {},
   "outputs": [],
   "source": []
  },
  {
   "cell_type": "code",
   "execution_count": 71,
   "id": "b32e9b75",
   "metadata": {},
   "outputs": [],
   "source": [
    "from __future__ import absolute_import\n",
    "import importlib\n",
    "\n",
    "\n",
    "import numpy as np\n",
    "import pandas as pd\n",
    "import matplotlib.pyplot as plt\n",
    "import pickle\n",
    "\n",
    "from models import MLP, OneOverSqr\n",
    "from runners import wrap_runner_for_optimization\n",
    "from fitting_utils import create_fitting_loss\n",
    "from dsp_utils import smooth_signal\n",
    "\n",
    "from types import SimpleNamespace"
   ]
  },
  {
   "cell_type": "code",
   "execution_count": null,
   "id": "1d7e6a75",
   "metadata": {},
   "outputs": [],
   "source": [
    "args = SimpleNamespace()\n",
    "args.paradigm = ['evoked', 'spontaneous']\n",
    "\n",
    "paradigm_info = {\n",
    "    'evoked': {\n",
    "        'i_min': 1,\n",
    "        'i_max': 8,},\n",
    "\n",
    "    'spontaneous': {\n",
    "        'i_min': 1,\n",
    "        'i_max': 8,}\n",
    "    }\n",
    "}\n"
   ]
  },
  {
   "cell_type": "code",
   "execution_count": 91,
   "id": "4ccc0d93",
   "metadata": {},
   "outputs": [],
   "source": [
    "opt_data = {}\n",
    "paradigm_by_id_lut = {}\n",
    "id = 0\n",
    "if type(args.paradigm) is not str:\n",
    "    for paradigm in args.paradigm:\n",
    "        for i in range(paradigm_info[paradigm]['i_min'],paradigm_info[paradigm]['i_max']+1):\n",
    "            # with open(f'../results/sweek_with_shift_{i}.pkl','rb') as f:\n",
    "            # with open(f'{ROOT_PATH}/experimental/coin_{args.paradigm}_run011s_MSE_{i}.pkl','rb') as f:\n",
    "            with open(f'{ROOT_PATH}/experimental/coin_{paradigm}_run012_MSE_{i}.pkl','rb') as f:\n",
    "                opt_data[id] = pickle.load(f)\n",
    "            paradigm_by_id_lut[id] = paradigm\n",
    "            id += 1"
   ]
  },
  {
   "cell_type": "code",
   "execution_count": 90,
   "id": "da5af9c5",
   "metadata": {},
   "outputs": [
    {
     "data": {
      "text/plain": [
       "{}"
      ]
     },
     "execution_count": 90,
     "metadata": {},
     "output_type": "execute_result"
    }
   ],
   "source": [
    "opt_data"
   ]
  },
  {
   "cell_type": "code",
   "execution_count": 75,
   "id": "34114efb",
   "metadata": {},
   "outputs": [],
   "source": [
    "def scale_and_bias(x,bias=0,scale=45.0):\n",
    "    x = np.array(x)\n",
    "    return x*scale + bias\n",
    "fixed_params = {}\n",
    "\n",
    "\n",
    "fixed_params['model'] =  dict(n_inputs = 4,\n",
    "                        n_hidden = 5*4*512,\n",
    "                        n_outs = 1,\n",
    "                        en_bias = False,\n",
    "                        first_layer_init='uniform_unity',\n",
    "                    first_layer_weights_trainable = True,\n",
    "                    out_layer_init='zeros',\n",
    "                        nl = 'relu')        \n",
    "\n",
    "fixed_params['runner'] = {'criterion':'MSE', 'k':[0,0,0,1],  'sigma_noi':0.0, 'tau_u':1,\n",
    "                        'save_model_at_init':False, 'ic_param_file':None, 'enable_combo':True}\n",
    "\n",
    "optim_param_mapping= [('custom','normalized_log_lr'),\n",
    "                    ('model','skip_gain'),                      \n",
    "                    ('model','b_high'),                      \n",
    "                    ('postprocessing','scale'),\n",
    "                    ]\n",
    "custom_param_mappings = [{'cathegory':'runner','param_name':'learning_rate',\n",
    "                            'fun': lambda x: 10.**x['normalized_log_lr']}]\n",
    "\n",
    "wrapped_runner = wrap_runner_for_optimization(model_class=MLP, \n",
    "                                             fixed_params=fixed_params,\n",
    "                                             optim_params_mapping=optim_param_mapping,\n",
    "                                              custom_param_mappings =custom_param_mappings,\n",
    "                                             postprocessing_fun=scale_and_bias)\n"
   ]
  },
  {
   "cell_type": "code",
   "execution_count": 76,
   "id": "e7453681",
   "metadata": {},
   "outputs": [],
   "source": [
    "Pplus = 1\n",
    "Pminus = -1\n",
    "P0 = 0\n",
    "Pchannel = np.nan\n",
    "\n",
    "'''\n",
    "spontaneous:\n",
    "trials in block Null: 50\n",
    "trials in block FieldA: 120\n",
    "trials in block PostRest: 5\n",
    "trials in block FieldB: 15\n",
    "trials in block Clamp150: 150\n",
    "\n",
    "\n",
    "evoked:\n",
    "trials in block Null: 50\n",
    "trials in block FieldA: 120\n",
    "trials in block PostRest: 5\n",
    "trials in block FieldB: 15\n",
    "trials in block Clamp2: 2\n",
    "trials in block FieldA2: 2\n",
    "trials in block Clamp150: 146\n",
    "'''\n",
    "stimuli = {'spontaneous': [(P0, 50),\n",
    "                        (Pplus, 120),\n",
    "                        (Pminus, 15),\n",
    "                        (Pchannel, 150)],\n",
    "            'evoked': [(P0, 50),\n",
    "                        (Pplus, 125),\n",
    "                        (Pminus, 15),\n",
    "                        (Pchannel, 2),\n",
    "                        (Pplus, 2),\n",
    "                        (Pchannel, 146)]}\n",
    "\n",
    "data = {}\n",
    "for id, paradigm in paradigm_by_id_lut.items():\n",
    "    df = pd.read_csv(f'{ROOT_PATH}/../../frogs_project/data/COIN_data/trial_data_{paradigm}_recovery_participant{id}.csv')\n",
    "    y = df.Adaptation.to_numpy()\n",
    "    y *= np.sign(np.nansum(y))\n",
    "    data[id] = y\n",
    "stimulus = stimuli[args.paradigm]\n",
    "datapoint_mapping=None"
   ]
  },
  {
   "cell_type": "code",
   "execution_count": 77,
   "id": "96c5f02f",
   "metadata": {},
   "outputs": [],
   "source": [
    "pooling_fun = 'MSE'"
   ]
  },
  {
   "cell_type": "code",
   "execution_count": 78,
   "id": "918e5c9d",
   "metadata": {},
   "outputs": [],
   "source": [
    "errors = [opt_data[k][pooling_fun]['fun'] for k in opt_data]\n"
   ]
  },
  {
   "cell_type": "code",
   "execution_count": 79,
   "id": "472226f1",
   "metadata": {},
   "outputs": [
    {
     "name": "stderr",
     "output_type": "stream",
     "text": [
      "/scratch/ar2342/miconda3/envs/eb_hyperacuity3/lib/python3.9/site-packages/numpy/core/fromnumeric.py:3432: RuntimeWarning: Mean of empty slice.\n",
      "  return _methods._mean(a, axis=axis, dtype=dtype,\n",
      "/scratch/ar2342/miconda3/envs/eb_hyperacuity3/lib/python3.9/site-packages/numpy/core/_methods.py:190: RuntimeWarning: invalid value encountered in double_scalars\n",
      "  ret = ret.dtype.type(ret / rcount)\n"
     ]
    },
    {
     "data": {
      "text/plain": [
       "nan"
      ]
     },
     "execution_count": 79,
     "metadata": {},
     "output_type": "execute_result"
    }
   ],
   "source": [
    "np.mean(errors)"
   ]
  },
  {
   "cell_type": "code",
   "execution_count": 80,
   "id": "f1dea490",
   "metadata": {},
   "outputs": [
    {
     "data": {
      "text/plain": [
       "dict_keys([])"
      ]
     },
     "execution_count": 80,
     "metadata": {},
     "output_type": "execute_result"
    }
   ],
   "source": [
    "opt_data.keys()"
   ]
  },
  {
   "cell_type": "code",
   "execution_count": 81,
   "id": "a969d156",
   "metadata": {},
   "outputs": [
    {
     "data": {
      "text/plain": [
       "[(0, 50), (1, 125), (-1, 15), (nan, 2), (1, 2), (nan, 146)]"
      ]
     },
     "execution_count": 81,
     "metadata": {},
     "output_type": "execute_result"
    }
   ],
   "source": [
    "stimulus"
   ]
  },
  {
   "cell_type": "code",
   "execution_count": 82,
   "id": "43f71a05",
   "metadata": {},
   "outputs": [],
   "source": [
    "# debu   = {k: wrapped_runner([stimulus],opt_data[k][pooling_fun]['x']) for k in opt_data}"
   ]
  },
  {
   "cell_type": "code",
   "execution_count": 83,
   "id": "f447d3d0",
   "metadata": {},
   "outputs": [],
   "source": [
    "outs  = {k: wrapped_runner(stimuli[paradigm_by_id_lut[k]],opt_data[k][pooling_fun]['x']) for k in opt_data}"
   ]
  },
  {
   "cell_type": "code",
   "execution_count": 84,
   "id": "abf8d51c",
   "metadata": {
    "scrolled": true
   },
   "outputs": [
    {
     "data": {
      "text/plain": [
       "<matplotlib.legend.Legend at 0x716fc0bbfc40>"
      ]
     },
     "execution_count": 84,
     "metadata": {},
     "output_type": "execute_result"
    },
    {
     "data": {
      "image/png": "[encoded data removed]",
      "text/plain": [
       "<Figure size 1500x750 with 1 Axes>"
      ]
     },
     "metadata": {},
     "output_type": "display_data"
    }
   ],
   "source": [
    "plt.figure(figsize=(15,7.5))\n",
    "for k in opt_data:\n",
    "    plt.subplot(2,4,k)\n",
    "    plt.plot(outs[k],linewidth=2)\n",
    "    plt.plot(data[k],'.', alpha=0.3)\n",
    "    if k<5: plt.title(f'{k+1}')\n",
    "        \n",
    "\n",
    "plt.subplot(2,4,1)\n",
    "plt.ylabel('adaptation angle [deg]')\n",
    "plt.xlabel('cycle')\n",
    "\n",
    "plt.gca().set_title(f'subjects -->>{1}', pad=-30)\n",
    "plt.legend(['model','validation data','fitted data'])    \n",
    "    \n",
    "# plt.plot(data[:80,0],'.')\n",
    "# plt.plot(smooth_signal(data[:,0],3))\n"
   ]
  },
  {
   "cell_type": "code",
   "execution_count": 85,
   "id": "b4c1a69a",
   "metadata": {},
   "outputs": [],
   "source": [
    "outs_ = [o for _,o in outs.items()]\n",
    "outs_ = np.array(outs_)\n",
    "data_ = np.array([data[k] for k in opt_data])"
   ]
  },
  {
   "cell_type": "code",
   "execution_count": 86,
   "id": "7415d702",
   "metadata": {},
   "outputs": [
    {
     "name": "stderr",
     "output_type": "stream",
     "text": [
      "/tmp/ipykernel_2538674/23407626.py:2: RuntimeWarning: Mean of empty slice\n",
      "  plt.plot(np.nanmean(data_,axis=0),'.')\n"
     ]
    },
    {
     "data": {
      "text/plain": [
       "[<matplotlib.lines.Line2D at 0x716fcc0ee250>]"
      ]
     },
     "execution_count": 86,
     "metadata": {},
     "output_type": "execute_result"
    },
    {
     "data": {
      "image/png": "[encoded data removed]",
      "text/plain": [
       "<Figure size 640x480 with 1 Axes>"
      ]
     },
     "metadata": {},
     "output_type": "display_data"
    }
   ],
   "source": [
    "plt.plot(np.mean(outs_,axis=0))\n",
    "plt.plot(np.nanmean(data_,axis=0),'.')"
   ]
  },
  {
   "cell_type": "code",
   "execution_count": 87,
   "id": "19c59353",
   "metadata": {},
   "outputs": [],
   "source": [
    "A_times = [0,5,10,20] \n",
    "antero   = {aa: [ wrapped_runner([(1,A_time),(-1,40)],opt_data[k][pooling_fun]['x']) for k in opt_data] for aa,A_time in enumerate(A_times)}"
   ]
  },
  {
   "cell_type": "code",
   "execution_count": 88,
   "id": "6931750b",
   "metadata": {},
   "outputs": [
    {
     "ename": "TypeError",
     "evalue": "object of type 'numpy.float64' has no len()",
     "output_type": "error",
     "traceback": [
      "\u001b[0;31m---------------------------------------------------------------------------\u001b[0m",
      "\u001b[0;31mTypeError\u001b[0m                                 Traceback (most recent call last)",
      "Cell \u001b[0;32mIn[88], line 3\u001b[0m\n\u001b[1;32m      1\u001b[0m \u001b[38;5;28;01mfor\u001b[39;00m aa,A_time \u001b[38;5;129;01min\u001b[39;00m \u001b[38;5;28menumerate\u001b[39m(A_times):\n\u001b[1;32m      2\u001b[0m     y \u001b[38;5;241m=\u001b[39m np\u001b[38;5;241m.\u001b[39mmean(antero[aa],axis\u001b[38;5;241m=\u001b[39m\u001b[38;5;241m0\u001b[39m)\n\u001b[0;32m----> 3\u001b[0m     x \u001b[38;5;241m=\u001b[39m np\u001b[38;5;241m.\u001b[39marange(\u001b[38;5;28;43mlen\u001b[39;49m\u001b[43m(\u001b[49m\u001b[43my\u001b[49m\u001b[43m)\u001b[49m)\n\u001b[1;32m      4\u001b[0m     x \u001b[38;5;241m=\u001b[39m x \u001b[38;5;241m-\u001b[39m x[\u001b[38;5;241m-\u001b[39m\u001b[38;5;241m1\u001b[39m]\n\u001b[1;32m      5\u001b[0m     plt\u001b[38;5;241m.\u001b[39mplot(x,y)\n",
      "\u001b[0;31mTypeError\u001b[0m: object of type 'numpy.float64' has no len()"
     ]
    }
   ],
   "source": [
    "for aa,A_time in enumerate(A_times):\n",
    "    y = np.mean(antero[aa],axis=0)\n",
    "    x = np.arange(len(y))\n",
    "    x = x - x[-1]\n",
    "    plt.plot(x,y)\n",
    "    "
   ]
  },
  {
   "cell_type": "code",
   "execution_count": null,
   "id": "a91abafb",
   "metadata": {},
   "outputs": [],
   "source": []
  },
  {
   "cell_type": "code",
   "execution_count": null,
   "id": "1363f27f",
   "metadata": {},
   "outputs": [],
   "source": [
    "frog_ens = [True,False]\n",
    "Tfrog = 400\n",
    "frogs   = {aa: [ wrapped_runner([(1 if not frog_en else np.linspace(0,1,Tfrog),Tfrog),(0,40)],opt_data[k][pooling_fun]['x']) for k in opt_data] for aa,frog_en in enumerate(frog_ens)}"
   ]
  },
  {
   "cell_type": "code",
   "execution_count": null,
   "id": "b449a0c2",
   "metadata": {},
   "outputs": [
    {
     "data": {
      "image/png": "[encoded data removed]",
      "text/plain": [
       "<Figure size 640x480 with 1 Axes>"
      ]
     },
     "metadata": {},
     "output_type": "display_data"
    }
   ],
   "source": [
    "for frog_en in frog_ens:\n",
    "    plt.plot(np.mean(frogs[frog_en],axis=0))"
   ]
  }
 ],
 "metadata": {
  "kernelspec": {
   "display_name": "Python 3 (ipykernel)",
   "language": "python",
   "name": "python3"
  },
  "language_info": {
   "codemirror_mode": {
    "name": "ipython",
    "version": 3
   },
   "file_extension": ".py",
   "mimetype": "text/x-python",
   "name": "python",
   "nbconvert_exporter": "python",
   "pygments_lexer": "ipython3",
   "version": "3.9.0"
  }
 },
 "nbformat": 4,
 "nbformat_minor": 5
}
