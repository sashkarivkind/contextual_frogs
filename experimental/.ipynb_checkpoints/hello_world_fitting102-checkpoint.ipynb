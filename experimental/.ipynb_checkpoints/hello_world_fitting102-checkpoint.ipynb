{
 "cells": [
  {
   "cell_type": "code",
   "execution_count": 1,
   "id": "527e87ed",
   "metadata": {},
   "outputs": [],
   "source": [
    "import sys\n",
    "\n",
    "# Specify the directory you want to add\n",
    "custom_path = './..'\n",
    "\n",
    "# Add the directory to sys.path\n",
    "if custom_path not in sys.path:\n",
    "    sys.path.append(custom_path)"
   ]
  },
  {
   "cell_type": "code",
   "execution_count": 2,
   "id": "b32e9b75",
   "metadata": {},
   "outputs": [
    {
     "name": "stderr",
     "output_type": "stream",
     "text": [
      "/opt/conda/lib/python3.8/site-packages/tqdm/auto.py:22: TqdmWarning: IProgress not found. Please update jupyter and ipywidgets. See https://ipywidgets.readthedocs.io/en/stable/user_install.html\n",
      "  from .autonotebook import tqdm as notebook_tqdm\n"
     ]
    }
   ],
   "source": [
    "from __future__ import absolute_import\n",
    "import importlib\n",
    "\n",
    "\n",
    "import numpy as np\n",
    "import pandas as pd\n",
    "import matplotlib.pyplot as plt\n",
    "\n",
    "\n",
    "from models import MLP, OneOverSqr\n",
    "from runners import wrap_runner_for_optimization\n",
    "from fitting_utils import create_fitting_loss"
   ]
  },
  {
   "cell_type": "code",
   "execution_count": 3,
   "id": "34114efb",
   "metadata": {},
   "outputs": [],
   "source": [
    "\n",
    "\n",
    "fixed_params = {}\n",
    "\n",
    "fixed_params['model'] =  dict(n_inputs = 3,\n",
    "                  n_hidden = 4*512,\n",
    "                  n_outs = 1,\n",
    "                  en_bias = False,\n",
    "                 b_high=3, first_layer_init='ones',\n",
    "                first_layer_weights_trainable = True,\n",
    "                out_layer_init='zeros')         \n",
    "#todo - tie \"kernel width\" to learning rate \n",
    "fixed_params['runner'] = {'criterion':'MSE', 'k':[0,1,0], 'sigma_noi':0.0, 'tau_u':1,\n",
    "                          'save_model_at_init':False, 'ic_param_file':None}\n",
    "\n",
    "def scale_and_bias(x,bias=0,scale=45.0):\n",
    "    x = np.array(x)\n",
    "    return x*scale + bias\n",
    "#to sweep\n",
    "\n",
    "# nl = lambda : OneOverSqr(w=w), \n",
    "# skip_gain= skip\n",
    "# , 'learning_rate':1e-5\n",
    "\n",
    "optim_param_mapping= [('custom','normalized_log_lr'),\n",
    "                      ('model','skip_gain'),                      \n",
    "                     ('custom','w'),\n",
    "                      ('postprocessing','scale'),\n",
    "                     ]\n",
    "\n",
    "\n",
    "\n",
    "custom_param_mappings = [{'cathegory':'runner','param_name':'learning_rate',\n",
    "                          'fun': lambda x: 10.**x['normalized_log_lr']/x['w']},\n",
    "                        {'cathegory':'model','param_name':'nl','fun': lambda x: (lambda : OneOverSqr(w=x['w']))}]\n",
    "\n",
    "\n",
    "wrapped_runner = wrap_runner_for_optimization(model_class=MLP, \n",
    "                                             fixed_params=fixed_params,\n",
    "                                             optim_params_mapping=optim_param_mapping,\n",
    "                                             custom_param_mappings=custom_param_mappings, \n",
    "                                             postprocessing_fun=scale_and_bias)\n"
   ]
  },
  {
   "cell_type": "code",
   "execution_count": 4,
   "id": "e7453681",
   "metadata": {},
   "outputs": [],
   "source": [
    "df = pd.read_csv('../../../frogs_project/data/avraham__ivry_fig1_rotFig1_v2.csv',header=None)\n",
    "df = df.T\n",
    "data = df.to_numpy()"
   ]
  },
  {
   "cell_type": "code",
   "execution_count": 5,
   "id": "96c5f02f",
   "metadata": {},
   "outputs": [],
   "source": [
    "stimulus = [(1,40),(0,40)]\n",
    "pooling_funs = ['MSE'] #,'MAE']"
   ]
  },
  {
   "cell_type": "code",
   "execution_count": 6,
   "id": "918e5c9d",
   "metadata": {},
   "outputs": [],
   "source": [
    "fitting_loss = {pooling_fun : create_fitting_loss(data=data[:80,0],stimulus=stimulus,wrapped_model=wrapped_runner,\n",
    "                    pooling_fun=pooling_fun,datapoint_mapping=None,weighting=None) for pooling_fun in pooling_funs}\n"
   ]
  },
  {
   "cell_type": "code",
   "execution_count": 7,
   "id": "1ce624bc",
   "metadata": {},
   "outputs": [],
   "source": [
    "from scipy.optimize import minimize, basinhopping"
   ]
  },
  {
   "cell_type": "code",
   "execution_count": 8,
   "id": "58715b73",
   "metadata": {},
   "outputs": [],
   "source": [
    "x0 = [-4.5,0.4,0.5, 40]\n",
    "bounds = [(-5.5,-4),(-0.9,0.99), (0.05,3), (10,90)]\n",
    "# bounds = [(-5.5,-4),(-0.9,0.99), (0.4,3), (20,50)]"
   ]
  },
  {
   "cell_type": "code",
   "execution_count": 9,
   "id": "3dfe3b5d",
   "metadata": {},
   "outputs": [
    {
     "name": "stdout",
     "output_type": "stream",
     "text": [
      "param_vals_dict:  {'skip_gain': -4.5, 'scale': 0.4, 'w': 0.5, 'normalized_log_lr': 40}\n"
     ]
    },
    {
     "ename": "RuntimeError",
     "evalue": "value cannot be converted to type float without overflow",
     "output_type": "error",
     "traceback": [
      "\u001b[0;31m---------------------------------------------------------------------------\u001b[0m",
      "\u001b[0;31mRuntimeError\u001b[0m                              Traceback (most recent call last)",
      "Input \u001b[0;32mIn [9]\u001b[0m, in \u001b[0;36m<cell line: 1>\u001b[0;34m()\u001b[0m\n\u001b[0;32m----> 1\u001b[0m out \u001b[38;5;241m=\u001b[39m \u001b[43mwrapped_runner\u001b[49m\u001b[43m(\u001b[49m\u001b[43m[\u001b[49m\u001b[43m(\u001b[49m\u001b[38;5;241;43m0\u001b[39;49m\u001b[43m,\u001b[49m\u001b[38;5;241;43m40\u001b[39;49m\u001b[43m)\u001b[49m\u001b[43m,\u001b[49m\u001b[43m(\u001b[49m\u001b[38;5;241;43m1\u001b[39;49m\u001b[43m,\u001b[49m\u001b[38;5;241;43m40\u001b[39;49m\u001b[43m)\u001b[49m\u001b[43m]\u001b[49m\u001b[38;5;241;43m*\u001b[39;49m\u001b[38;5;241;43m3\u001b[39;49m\u001b[43m,\u001b[49m\u001b[43mx0\u001b[49m\u001b[43m)\u001b[49m\n",
      "File \u001b[0;32m~/one_more_dir/one_more_dir/contextual_frogs/experimental/./../runners.py:353\u001b[0m, in \u001b[0;36mwrap_runner_for_optimization.<locals>.wrapped_runner\u001b[0;34m(stimulus, param_vals)\u001b[0m\n\u001b[1;32m    347\u001b[0m     optim_params[custom_param_mappting[\u001b[38;5;124m'\u001b[39m\u001b[38;5;124mcathegory\u001b[39m\u001b[38;5;124m'\u001b[39m]][custom_param_mappting[\u001b[38;5;124m'\u001b[39m\u001b[38;5;124mparam_name\u001b[39m\u001b[38;5;124m'\u001b[39m]] \u001b[38;5;241m=\u001b[39m custom_param_mappting[\u001b[38;5;124m'\u001b[39m\u001b[38;5;124mfun\u001b[39m\u001b[38;5;124m'\u001b[39m](param_vals_dict)\n\u001b[1;32m    349\u001b[0m runner \u001b[38;5;241m=\u001b[39m runner_class(model_class\u001b[38;5;241m=\u001b[39mmodel_class, model_construct_args\u001b[38;5;241m=\u001b[39m{\u001b[38;5;241m*\u001b[39m\u001b[38;5;241m*\u001b[39mmodel_args, \u001b[38;5;241m*\u001b[39m\u001b[38;5;241m*\u001b[39moptim_params[\u001b[38;5;124m'\u001b[39m\u001b[38;5;124mmodel\u001b[39m\u001b[38;5;124m'\u001b[39m]},\n\u001b[1;32m    350\u001b[0m                 test_vec\u001b[38;5;241m=\u001b[39m\u001b[38;5;28;01mNone\u001b[39;00m,\n\u001b[1;32m    351\u001b[0m                 \u001b[38;5;241m*\u001b[39m\u001b[38;5;241m*\u001b[39m{\u001b[38;5;241m*\u001b[39m\u001b[38;5;241m*\u001b[39mrunner_args,\u001b[38;5;241m*\u001b[39m\u001b[38;5;241m*\u001b[39moptim_params[\u001b[38;5;124m'\u001b[39m\u001b[38;5;124mrunner\u001b[39m\u001b[38;5;124m'\u001b[39m]})\n\u001b[0;32m--> 353\u001b[0m result \u001b[38;5;241m=\u001b[39m \u001b[43mrunner\u001b[49m\u001b[38;5;241;43m.\u001b[39;49m\u001b[43mrun\u001b[49m\u001b[43m(\u001b[49m\u001b[43mstimulus\u001b[49m\u001b[43m)\u001b[49m[\u001b[38;5;241m0\u001b[39m]\u001b[38;5;241m.\u001b[39mu_lp\n\u001b[1;32m    355\u001b[0m \u001b[38;5;28;01mif\u001b[39;00m postprocessing_fun \u001b[38;5;129;01mis\u001b[39;00m \u001b[38;5;129;01mnot\u001b[39;00m \u001b[38;5;28;01mNone\u001b[39;00m:\n\u001b[1;32m    356\u001b[0m     result \u001b[38;5;241m=\u001b[39m postprocessing_fun(result,\u001b[38;5;241m*\u001b[39m\u001b[38;5;241m*\u001b[39m{\u001b[38;5;241m*\u001b[39m\u001b[38;5;241m*\u001b[39mpostprocessing_args, \u001b[38;5;241m*\u001b[39m\u001b[38;5;241m*\u001b[39moptim_params[\u001b[38;5;124m'\u001b[39m\u001b[38;5;124mpostprocessing\u001b[39m\u001b[38;5;124m'\u001b[39m]})\n",
      "File \u001b[0;32m~/one_more_dir/one_more_dir/contextual_frogs/experimental/./../runners.py:254\u001b[0m, in \u001b[0;36mRunner.run\u001b[0;34m(self, scenario, do_return, test_vec, extra_measurements)\u001b[0m\n\u001b[1;32m    252\u001b[0m \u001b[38;5;28;01mfor\u001b[39;00m t, y_t \u001b[38;5;129;01min\u001b[39;00m \u001b[38;5;28menumerate\u001b[39m(y):\n\u001b[1;32m    253\u001b[0m     \u001b[38;5;28mself\u001b[39m\u001b[38;5;241m.\u001b[39mtest_vec_eval()\n\u001b[0;32m--> 254\u001b[0m     this_state \u001b[38;5;241m=\u001b[39m \u001b[38;5;28;43mself\u001b[39;49m\u001b[38;5;241;43m.\u001b[39;49m\u001b[43mstep\u001b[49m\u001b[43m(\u001b[49m\u001b[43my_t\u001b[49m\u001b[43m,\u001b[49m\n\u001b[1;32m    255\u001b[0m \u001b[43m                           \u001b[49m\u001b[43mthis_state\u001b[49m\u001b[43m,\u001b[49m\n\u001b[1;32m    256\u001b[0m \u001b[43m                           \u001b[49m\u001b[43mextra_measurements\u001b[49m\u001b[38;5;241;43m=\u001b[39;49m\u001b[43mextra_measurements\u001b[49m\u001b[43m,\u001b[49m\n\u001b[1;32m    257\u001b[0m \u001b[43m                           \u001b[49m\u001b[43mrecord\u001b[49m\u001b[38;5;241;43m=\u001b[39;49m\u001b[38;5;28;43;01mTrue\u001b[39;49;00m\u001b[43m)\u001b[49m \n\u001b[1;32m    258\u001b[0m     \u001b[38;5;28;01mfor\u001b[39;00m _ \u001b[38;5;129;01min\u001b[39;00m \u001b[38;5;28mrange\u001b[39m(\u001b[38;5;28mself\u001b[39m\u001b[38;5;241m.\u001b[39mauto_steps):\n\u001b[1;32m    259\u001b[0m         this_state \u001b[38;5;241m=\u001b[39m \u001b[38;5;28mself\u001b[39m\u001b[38;5;241m.\u001b[39mstep(np\u001b[38;5;241m.\u001b[39mnan,\n\u001b[1;32m    260\u001b[0m                     this_state,\n\u001b[1;32m    261\u001b[0m                     extra_measurements\u001b[38;5;241m=\u001b[39mextra_measurements,\n\u001b[1;32m    262\u001b[0m                     record\u001b[38;5;241m=\u001b[39m\u001b[38;5;28;01mFalse\u001b[39;00m)\n",
      "File \u001b[0;32m~/one_more_dir/one_more_dir/contextual_frogs/experimental/./../runners.py:209\u001b[0m, in \u001b[0;36mRunner.step\u001b[0;34m(self, y_t, x_tm1, extra_measurements, record)\u001b[0m\n\u001b[1;32m    207\u001b[0m     err_t \u001b[38;5;241m=\u001b[39m (y_t \u001b[38;5;241m-\u001b[39m \u001b[38;5;28mself\u001b[39m\u001b[38;5;241m.\u001b[39mu_lp\u001b[38;5;241m.\u001b[39mstate)\n\u001b[1;32m    208\u001b[0m     \u001b[38;5;28;01mif\u001b[39;00m \u001b[38;5;28mself\u001b[39m\u001b[38;5;241m.\u001b[39mdo_backprop \u001b[38;5;129;01mand\u001b[39;00m \u001b[38;5;129;01mnot\u001b[39;00m \u001b[38;5;28mself\u001b[39m\u001b[38;5;241m.\u001b[39mblock_training_next_step:\n\u001b[0;32m--> 209\u001b[0m         \u001b[38;5;28;43mself\u001b[39;49m\u001b[38;5;241;43m.\u001b[39;49m\u001b[43mopt_\u001b[49m\u001b[43m(\u001b[49m\u001b[43mtorch_u_t\u001b[49m\u001b[43m,\u001b[49m\u001b[43my_t\u001b[49m\u001b[43m,\u001b[49m\n\u001b[1;32m    210\u001b[0m \u001b[43m                  \u001b[49m\u001b[38;5;241;43m*\u001b[39;49m\u001b[38;5;241;43m*\u001b[39;49m\u001b[43m(\u001b[49m\u001b[43m{\u001b[49m\u001b[38;5;124;43m'\u001b[39;49m\u001b[38;5;124;43mconstancy_factor\u001b[39;49m\u001b[38;5;124;43m'\u001b[39;49m\u001b[43m:\u001b[49m\u001b[43m \u001b[49m\u001b[38;5;28;43mself\u001b[39;49m\u001b[38;5;241;43m.\u001b[39;49m\u001b[43mconstancy_factor\u001b[49m\u001b[43m,\u001b[49m\u001b[43m \u001b[49m\u001b[38;5;124;43m'\u001b[39;49m\u001b[38;5;124;43mu_tm1\u001b[39;49m\u001b[38;5;124;43m'\u001b[39;49m\u001b[43m:\u001b[49m\u001b[43mtorch_u_tm1\u001b[49m\u001b[43m}\u001b[49m\u001b[43m \u001b[49m\u001b[38;5;28;43;01mif\u001b[39;49;00m\u001b[43m \u001b[49m\u001b[38;5;28;43mself\u001b[39;49m\u001b[38;5;241;43m.\u001b[39;49m\u001b[43mconstancy_factor\u001b[49m\u001b[43m \u001b[49m\u001b[38;5;129;43;01mis\u001b[39;49;00m\u001b[43m \u001b[49m\u001b[38;5;129;43;01mnot\u001b[39;49;00m\u001b[43m \u001b[49m\u001b[38;5;28;43;01mNone\u001b[39;49;00m\u001b[43m \u001b[49m\u001b[38;5;28;43;01melse\u001b[39;49;00m\u001b[43m \u001b[49m\u001b[43m{\u001b[49m\u001b[43m}\u001b[49m\u001b[43m)\u001b[49m\u001b[43m)\u001b[49m\n\u001b[1;32m    211\u001b[0m \u001b[38;5;28;01melif\u001b[39;00m \u001b[38;5;28mself\u001b[39m\u001b[38;5;241m.\u001b[39mconstancy_factor \u001b[38;5;129;01mis\u001b[39;00m \u001b[38;5;129;01mnot\u001b[39;00m \u001b[38;5;28;01mNone\u001b[39;00m:\n\u001b[1;32m    212\u001b[0m     y_t \u001b[38;5;241m=\u001b[39m u_tm1\n",
      "File \u001b[0;32m~/one_more_dir/one_more_dir/contextual_frogs/experimental/./../runners.py:153\u001b[0m, in \u001b[0;36mRunner.opt_\u001b[0;34m(self, u_t, y_t, constancy_factor, u_tm1)\u001b[0m\n\u001b[1;32m    151\u001b[0m loss \u001b[38;5;241m=\u001b[39m \u001b[38;5;28mself\u001b[39m\u001b[38;5;241m.\u001b[39mcriterion(u_t, y_t_)\n\u001b[1;32m    152\u001b[0m loss\u001b[38;5;241m.\u001b[39mbackward()\n\u001b[0;32m--> 153\u001b[0m \u001b[38;5;28;43mself\u001b[39;49m\u001b[38;5;241;43m.\u001b[39;49m\u001b[43moptimizer\u001b[49m\u001b[38;5;241;43m.\u001b[39;49m\u001b[43mstep\u001b[49m\u001b[43m(\u001b[49m\u001b[43m)\u001b[49m\n",
      "File \u001b[0;32m/opt/conda/lib/python3.8/site-packages/torch/optim/optimizer.py:114\u001b[0m, in \u001b[0;36mOptimizer._hook_for_profile.<locals>.profile_hook_step.<locals>.wrapper\u001b[0;34m(*args, **kwargs)\u001b[0m\n\u001b[1;32m    112\u001b[0m profile_name \u001b[38;5;241m=\u001b[39m \u001b[38;5;124m\"\u001b[39m\u001b[38;5;124mOptimizer.step#\u001b[39m\u001b[38;5;132;01m{}\u001b[39;00m\u001b[38;5;124m.step\u001b[39m\u001b[38;5;124m\"\u001b[39m\u001b[38;5;241m.\u001b[39mformat(obj\u001b[38;5;241m.\u001b[39m\u001b[38;5;18m__class__\u001b[39m\u001b[38;5;241m.\u001b[39m\u001b[38;5;18m__name__\u001b[39m)\n\u001b[1;32m    113\u001b[0m \u001b[38;5;28;01mwith\u001b[39;00m torch\u001b[38;5;241m.\u001b[39mautograd\u001b[38;5;241m.\u001b[39mprofiler\u001b[38;5;241m.\u001b[39mrecord_function(profile_name):\n\u001b[0;32m--> 114\u001b[0m     \u001b[38;5;28;01mreturn\u001b[39;00m \u001b[43mfunc\u001b[49m\u001b[43m(\u001b[49m\u001b[38;5;241;43m*\u001b[39;49m\u001b[43margs\u001b[49m\u001b[43m,\u001b[49m\u001b[43m \u001b[49m\u001b[38;5;241;43m*\u001b[39;49m\u001b[38;5;241;43m*\u001b[39;49m\u001b[43mkwargs\u001b[49m\u001b[43m)\u001b[49m\n",
      "File \u001b[0;32m/opt/conda/lib/python3.8/site-packages/torch/autograd/grad_mode.py:27\u001b[0m, in \u001b[0;36m_DecoratorContextManager.__call__.<locals>.decorate_context\u001b[0;34m(*args, **kwargs)\u001b[0m\n\u001b[1;32m     24\u001b[0m \u001b[38;5;129m@functools\u001b[39m\u001b[38;5;241m.\u001b[39mwraps(func)\n\u001b[1;32m     25\u001b[0m \u001b[38;5;28;01mdef\u001b[39;00m \u001b[38;5;21mdecorate_context\u001b[39m(\u001b[38;5;241m*\u001b[39margs, \u001b[38;5;241m*\u001b[39m\u001b[38;5;241m*\u001b[39mkwargs):\n\u001b[1;32m     26\u001b[0m     \u001b[38;5;28;01mwith\u001b[39;00m \u001b[38;5;28mself\u001b[39m\u001b[38;5;241m.\u001b[39mclone():\n\u001b[0;32m---> 27\u001b[0m         \u001b[38;5;28;01mreturn\u001b[39;00m \u001b[43mfunc\u001b[49m\u001b[43m(\u001b[49m\u001b[38;5;241;43m*\u001b[39;49m\u001b[43margs\u001b[49m\u001b[43m,\u001b[49m\u001b[43m \u001b[49m\u001b[38;5;241;43m*\u001b[39;49m\u001b[38;5;241;43m*\u001b[39;49m\u001b[43mkwargs\u001b[49m\u001b[43m)\u001b[49m\n",
      "File \u001b[0;32m/opt/conda/lib/python3.8/site-packages/torch/optim/sgd.py:147\u001b[0m, in \u001b[0;36mSGD.step\u001b[0;34m(self, closure)\u001b[0m\n\u001b[1;32m    144\u001b[0m         \u001b[38;5;28;01melse\u001b[39;00m:\n\u001b[1;32m    145\u001b[0m             momentum_buffer_list\u001b[38;5;241m.\u001b[39mappend(state[\u001b[38;5;124m'\u001b[39m\u001b[38;5;124mmomentum_buffer\u001b[39m\u001b[38;5;124m'\u001b[39m])\n\u001b[0;32m--> 147\u001b[0m \u001b[43msgd\u001b[49m\u001b[43m(\u001b[49m\u001b[43mparams_with_grad\u001b[49m\u001b[43m,\u001b[49m\n\u001b[1;32m    148\u001b[0m \u001b[43m    \u001b[49m\u001b[43md_p_list\u001b[49m\u001b[43m,\u001b[49m\n\u001b[1;32m    149\u001b[0m \u001b[43m    \u001b[49m\u001b[43mmomentum_buffer_list\u001b[49m\u001b[43m,\u001b[49m\n\u001b[1;32m    150\u001b[0m \u001b[43m    \u001b[49m\u001b[43mweight_decay\u001b[49m\u001b[38;5;241;43m=\u001b[39;49m\u001b[43mgroup\u001b[49m\u001b[43m[\u001b[49m\u001b[38;5;124;43m'\u001b[39;49m\u001b[38;5;124;43mweight_decay\u001b[39;49m\u001b[38;5;124;43m'\u001b[39;49m\u001b[43m]\u001b[49m\u001b[43m,\u001b[49m\n\u001b[1;32m    151\u001b[0m \u001b[43m    \u001b[49m\u001b[43mmomentum\u001b[49m\u001b[38;5;241;43m=\u001b[39;49m\u001b[43mgroup\u001b[49m\u001b[43m[\u001b[49m\u001b[38;5;124;43m'\u001b[39;49m\u001b[38;5;124;43mmomentum\u001b[39;49m\u001b[38;5;124;43m'\u001b[39;49m\u001b[43m]\u001b[49m\u001b[43m,\u001b[49m\n\u001b[1;32m    152\u001b[0m \u001b[43m    \u001b[49m\u001b[43mlr\u001b[49m\u001b[38;5;241;43m=\u001b[39;49m\u001b[43mgroup\u001b[49m\u001b[43m[\u001b[49m\u001b[38;5;124;43m'\u001b[39;49m\u001b[38;5;124;43mlr\u001b[39;49m\u001b[38;5;124;43m'\u001b[39;49m\u001b[43m]\u001b[49m\u001b[43m,\u001b[49m\n\u001b[1;32m    153\u001b[0m \u001b[43m    \u001b[49m\u001b[43mdampening\u001b[49m\u001b[38;5;241;43m=\u001b[39;49m\u001b[43mgroup\u001b[49m\u001b[43m[\u001b[49m\u001b[38;5;124;43m'\u001b[39;49m\u001b[38;5;124;43mdampening\u001b[39;49m\u001b[38;5;124;43m'\u001b[39;49m\u001b[43m]\u001b[49m\u001b[43m,\u001b[49m\n\u001b[1;32m    154\u001b[0m \u001b[43m    \u001b[49m\u001b[43mnesterov\u001b[49m\u001b[38;5;241;43m=\u001b[39;49m\u001b[43mgroup\u001b[49m\u001b[43m[\u001b[49m\u001b[38;5;124;43m'\u001b[39;49m\u001b[38;5;124;43mnesterov\u001b[39;49m\u001b[38;5;124;43m'\u001b[39;49m\u001b[43m]\u001b[49m\u001b[43m,\u001b[49m\n\u001b[1;32m    155\u001b[0m \u001b[43m    \u001b[49m\u001b[43mmaximize\u001b[49m\u001b[38;5;241;43m=\u001b[39;49m\u001b[43mgroup\u001b[49m\u001b[43m[\u001b[49m\u001b[38;5;124;43m'\u001b[39;49m\u001b[38;5;124;43mmaximize\u001b[39;49m\u001b[38;5;124;43m'\u001b[39;49m\u001b[43m]\u001b[49m\u001b[43m,\u001b[49m\n\u001b[1;32m    156\u001b[0m \u001b[43m    \u001b[49m\u001b[43mhas_sparse_grad\u001b[49m\u001b[38;5;241;43m=\u001b[39;49m\u001b[43mhas_sparse_grad\u001b[49m\u001b[43m,\u001b[49m\n\u001b[1;32m    157\u001b[0m \u001b[43m    \u001b[49m\u001b[43mforeach\u001b[49m\u001b[38;5;241;43m=\u001b[39;49m\u001b[43mgroup\u001b[49m\u001b[43m[\u001b[49m\u001b[38;5;124;43m'\u001b[39;49m\u001b[38;5;124;43mforeach\u001b[39;49m\u001b[38;5;124;43m'\u001b[39;49m\u001b[43m]\u001b[49m\u001b[43m)\u001b[49m\n\u001b[1;32m    159\u001b[0m \u001b[38;5;66;03m# update momentum_buffers in state\u001b[39;00m\n\u001b[1;32m    160\u001b[0m \u001b[38;5;28;01mfor\u001b[39;00m p, momentum_buffer \u001b[38;5;129;01min\u001b[39;00m \u001b[38;5;28mzip\u001b[39m(params_with_grad, momentum_buffer_list):\n",
      "File \u001b[0;32m/opt/conda/lib/python3.8/site-packages/torch/optim/sgd.py:198\u001b[0m, in \u001b[0;36msgd\u001b[0;34m(params, d_p_list, momentum_buffer_list, has_sparse_grad, foreach, weight_decay, momentum, lr, dampening, nesterov, maximize)\u001b[0m\n\u001b[1;32m    195\u001b[0m \u001b[38;5;28;01melse\u001b[39;00m:\n\u001b[1;32m    196\u001b[0m     func \u001b[38;5;241m=\u001b[39m _single_tensor_sgd\n\u001b[0;32m--> 198\u001b[0m \u001b[43mfunc\u001b[49m\u001b[43m(\u001b[49m\u001b[43mparams\u001b[49m\u001b[43m,\u001b[49m\n\u001b[1;32m    199\u001b[0m \u001b[43m     \u001b[49m\u001b[43md_p_list\u001b[49m\u001b[43m,\u001b[49m\n\u001b[1;32m    200\u001b[0m \u001b[43m     \u001b[49m\u001b[43mmomentum_buffer_list\u001b[49m\u001b[43m,\u001b[49m\n\u001b[1;32m    201\u001b[0m \u001b[43m     \u001b[49m\u001b[43mweight_decay\u001b[49m\u001b[38;5;241;43m=\u001b[39;49m\u001b[43mweight_decay\u001b[49m\u001b[43m,\u001b[49m\n\u001b[1;32m    202\u001b[0m \u001b[43m     \u001b[49m\u001b[43mmomentum\u001b[49m\u001b[38;5;241;43m=\u001b[39;49m\u001b[43mmomentum\u001b[49m\u001b[43m,\u001b[49m\n\u001b[1;32m    203\u001b[0m \u001b[43m     \u001b[49m\u001b[43mlr\u001b[49m\u001b[38;5;241;43m=\u001b[39;49m\u001b[43mlr\u001b[49m\u001b[43m,\u001b[49m\n\u001b[1;32m    204\u001b[0m \u001b[43m     \u001b[49m\u001b[43mdampening\u001b[49m\u001b[38;5;241;43m=\u001b[39;49m\u001b[43mdampening\u001b[49m\u001b[43m,\u001b[49m\n\u001b[1;32m    205\u001b[0m \u001b[43m     \u001b[49m\u001b[43mnesterov\u001b[49m\u001b[38;5;241;43m=\u001b[39;49m\u001b[43mnesterov\u001b[49m\u001b[43m,\u001b[49m\n\u001b[1;32m    206\u001b[0m \u001b[43m     \u001b[49m\u001b[43mhas_sparse_grad\u001b[49m\u001b[38;5;241;43m=\u001b[39;49m\u001b[43mhas_sparse_grad\u001b[49m\u001b[43m,\u001b[49m\n\u001b[1;32m    207\u001b[0m \u001b[43m     \u001b[49m\u001b[43mmaximize\u001b[49m\u001b[38;5;241;43m=\u001b[39;49m\u001b[43mmaximize\u001b[49m\u001b[43m)\u001b[49m\n",
      "File \u001b[0;32m/opt/conda/lib/python3.8/site-packages/torch/optim/sgd.py:242\u001b[0m, in \u001b[0;36m_single_tensor_sgd\u001b[0;34m(params, d_p_list, momentum_buffer_list, weight_decay, momentum, lr, dampening, nesterov, maximize, has_sparse_grad)\u001b[0m\n\u001b[1;32m    239\u001b[0m         d_p \u001b[38;5;241m=\u001b[39m buf\n\u001b[1;32m    241\u001b[0m alpha \u001b[38;5;241m=\u001b[39m lr \u001b[38;5;28;01mif\u001b[39;00m maximize \u001b[38;5;28;01melse\u001b[39;00m \u001b[38;5;241m-\u001b[39mlr\n\u001b[0;32m--> 242\u001b[0m \u001b[43mparam\u001b[49m\u001b[38;5;241;43m.\u001b[39;49m\u001b[43madd_\u001b[49m\u001b[43m(\u001b[49m\u001b[43md_p\u001b[49m\u001b[43m,\u001b[49m\u001b[43m \u001b[49m\u001b[43malpha\u001b[49m\u001b[38;5;241;43m=\u001b[39;49m\u001b[43malpha\u001b[49m\u001b[43m)\u001b[49m\n",
      "\u001b[0;31mRuntimeError\u001b[0m: value cannot be converted to type float without overflow"
     ]
    }
   ],
   "source": [
    "out = wrapped_runner([(0,40),(1,40)]*3,x0)"
   ]
  },
  {
   "cell_type": "code",
   "execution_count": null,
   "id": "deeb3400",
   "metadata": {},
   "outputs": [],
   "source": [
    "plt.plot(out)"
   ]
  },
  {
   "cell_type": "code",
   "execution_count": null,
   "id": "52217833",
   "metadata": {},
   "outputs": [],
   "source": [
    "opt_out = {}\n",
    "\n",
    "def print_fun(x, f, accepted):\n",
    "        print(\"at minimum %.4f accepted %d  with params %s\" % (f, int(accepted), str(x)))"
   ]
  },
  {
   "cell_type": "code",
   "execution_count": null,
   "id": "fcdd2181",
   "metadata": {},
   "outputs": [],
   "source": [
    "# res = minimize(fitting_loss, x0, method='nelder-mead', bounds= bounds,\n",
    "#                options={'xatol': 1e-6, 'disp': True})\n",
    "\n",
    "# def print_fun(x, f, accepted):\n",
    "#         print(\"at minimum %.4f accepted %d\" % (f, int(accepted)))\n",
    "# res = basinhopping(fitting_loss, x0, \n",
    "#                    minimizer_kwargs = dict(method='nelder-mead', options={'xatol': 1e-6, 'disp': True, 'bounds':bounds}),\n",
    "#                    callback=print_fun)\n",
    "# \n",
    "\n",
    "\n",
    "\n",
    "\n",
    "# res = basinhopping(fitting_loss, x0, \n",
    "#                    minimizer_kwargs = dict(method='L-BFGS-B', bounds= bounds),\n",
    "#                    callback=print_fun)\n",
    "# method='L-BFGS-B', bounds= bounds,"
   ]
  },
  {
   "cell_type": "code",
   "execution_count": null,
   "id": "2c60289c",
   "metadata": {},
   "outputs": [],
   "source": [
    "# opt_out['MSE'] = res"
   ]
  },
  {
   "cell_type": "code",
   "execution_count": null,
   "id": "1336c3bc",
   "metadata": {},
   "outputs": [],
   "source": [
    "pooling_fun = pooling_funs[-1]\n",
    "opt_out[pooling_fun] = basinhopping(fitting_loss[pooling_fun], x0, \n",
    "                   minimizer_kwargs = dict(method='L-BFGS-B', bounds= bounds),\n",
    "                   callback=print_fun)"
   ]
  },
  {
   "cell_type": "code",
   "execution_count": null,
   "id": "de09b5fd",
   "metadata": {},
   "outputs": [],
   "source": [
    "opt_out[(pooling_fun,'nelder-mead')] = basinhopping(fitting_loss[pooling_fun], x0, \n",
    "                   minimizer_kwargs = dict(method='nelder-mead', bounds= bounds),\n",
    "                   callback=print_fun)"
   ]
  },
  {
   "cell_type": "code",
   "execution_count": null,
   "id": "d802c023",
   "metadata": {},
   "outputs": [],
   "source": [
    "fitting_loss['MAE'](x0), fitting_loss['MSE'](x0)"
   ]
  },
  {
   "cell_type": "code",
   "execution_count": null,
   "id": "491fb94f",
   "metadata": {},
   "outputs": [],
   "source": [
    "res"
   ]
  },
  {
   "cell_type": "code",
   "execution_count": null,
   "id": "49692a48",
   "metadata": {},
   "outputs": [],
   "source": [
    "opt_out"
   ]
  },
  {
   "cell_type": "code",
   "execution_count": null,
   "id": "f447d3d0",
   "metadata": {},
   "outputs": [],
   "source": [
    "outs  = {pooling_fun: wrapped_runner([(1,40),(0,40),(1,40)],opt_out[pooling_fun]['x']) for pooling_fun in pooling_funs}"
   ]
  },
  {
   "cell_type": "code",
   "execution_count": null,
   "id": "eb5e71a0",
   "metadata": {},
   "outputs": [],
   "source": [
    "appendix = ('MAE',  'nelder-mead')\n",
    "outs[appendix] = wrapped_runner([(1,40),(0,40),(1,40)],opt_out[appendix]['x'])"
   ]
  },
  {
   "cell_type": "code",
   "execution_count": null,
   "id": "abf8d51c",
   "metadata": {},
   "outputs": [],
   "source": [
    "for setting in pooling_funs +[appendix]:\n",
    "    plt.plot(outs[setting])\n",
    "plt.plot(data[:,0],'.')\n",
    "plt.plot(data[:80,0],'.')\n",
    "plt.plot(smooth_signal(data[:,0],3))\n"
   ]
  },
  {
   "cell_type": "code",
   "execution_count": null,
   "id": "33af04d5",
   "metadata": {},
   "outputs": [],
   "source": [
    "for setting in pooling_funs +[appendix]:\n",
    "    plt.plot(outs[setting])\n",
    "plt.plot(data[:,0],'x')\n",
    "plt.plot(data[:80,0],'x')\n",
    "\n",
    "plt.xlim([39,120])\n",
    "plt.ylim([-5,60])\n"
   ]
  },
  {
   "cell_type": "code",
   "execution_count": null,
   "id": "bec8c790",
   "metadata": {},
   "outputs": [],
   "source": [
    "mae = lambda x: np.mean(np.abs(x))\n",
    "mse = lambda x: np.mean(np.square(x))\n"
   ]
  },
  {
   "cell_type": "code",
   "execution_count": null,
   "id": "e3bda675",
   "metadata": {},
   "outputs": [],
   "source": [
    "for setting in pooling_funs +[appendix]:\n",
    "    fit_err = outs[setting][:80] - data[:80,0]\n",
    "    val_err = outs[setting][80:] - data[80:,0]\n",
    "    print(f'fit objective: {setting}')\n",
    "    print(f' fitting MAE: {mae(fit_err)}; MSE: {mse(fit_err)}')\n",
    "    print(f' validation MAE: {mae(val_err)}; MSE: {mse(val_err)}')"
   ]
  },
  {
   "cell_type": "code",
   "execution_count": null,
   "id": "fff436fa",
   "metadata": {},
   "outputs": [],
   "source": [
    "import scipy\n",
    "scipy.__version__"
   ]
  },
  {
   "cell_type": "code",
   "execution_count": null,
   "id": "72ab2a04",
   "metadata": {},
   "outputs": [],
   "source": [
    "# !pip3 install --upgrade pip"
   ]
  },
  {
   "cell_type": "code",
   "execution_count": null,
   "id": "c461aabe",
   "metadata": {},
   "outputs": [],
   "source": [
    "# pip install --upgrade scipy"
   ]
  },
  {
   "cell_type": "code",
   "execution_count": null,
   "id": "5075182d",
   "metadata": {},
   "outputs": [],
   "source": [
    "from dsp_utils import smooth_signal"
   ]
  },
  {
   "cell_type": "code",
   "execution_count": null,
   "id": "cacec44e",
   "metadata": {},
   "outputs": [],
   "source": [
    "import pickle"
   ]
  },
  {
   "cell_type": "code",
   "execution_count": null,
   "id": "ef2e4e1f",
   "metadata": {},
   "outputs": [],
   "source": [
    "with open('sweep_1_subj_12.pkl','rb') as f:\n",
    "    opt_data = pickle.load(f)"
   ]
  },
  {
   "cell_type": "code",
   "execution_count": null,
   "id": "e5e7f84a",
   "metadata": {},
   "outputs": [],
   "source": [
    "opt_data"
   ]
  },
  {
   "cell_type": "code",
   "execution_count": null,
   "id": "77ed11bf",
   "metadata": {},
   "outputs": [],
   "source": []
  }
 ],
 "metadata": {
  "kernelspec": {
   "display_name": "Python 3 (ipykernel)",
   "language": "python",
   "name": "python3"
  },
  "language_info": {
   "codemirror_mode": {
    "name": "ipython",
    "version": 3
   },
   "file_extension": ".py",
   "mimetype": "text/x-python",
   "name": "python",
   "nbconvert_exporter": "python",
   "pygments_lexer": "ipython3",
   "version": "3.8.13"
  }
 },
 "nbformat": 4,
 "nbformat_minor": 5
}
