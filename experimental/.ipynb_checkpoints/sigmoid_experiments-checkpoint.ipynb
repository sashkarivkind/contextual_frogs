{
 "cells": [
  {
   "cell_type": "code",
   "execution_count": 1,
   "metadata": {
    "executionInfo": {
     "elapsed": 2926,
     "status": "ok",
     "timestamp": 1729694443927,
     "user": {
      "displayName": "Alexander Rivkind",
      "userId": "10002507018830873377"
     },
     "user_tz": -180
    },
    "id": "GsCDb1ZrwV9Z"
   },
   "outputs": [
    {
     "name": "stderr",
     "output_type": "stream",
     "text": [
      "/opt/conda/lib/python3.8/site-packages/tqdm/auto.py:22: TqdmWarning: IProgress not found. Please update jupyter and ipywidgets. See https://ipywidgets.readthedocs.io/en/stable/user_install.html\n",
      "  from .autonotebook import tqdm as notebook_tqdm\n"
     ]
    }
   ],
   "source": [
    "import sys\n",
    "\n",
    "# Specify the directory you want to add\n",
    "custom_path = './..'\n",
    "\n",
    "# Add the directory to sys.path\n",
    "if custom_path not in sys.path:\n",
    "    sys.path.append(custom_path)\n",
    "\n",
    "from __future__ import absolute_import\n",
    "import importlib\n",
    "\n",
    "from copy import copy\n",
    "\n",
    "import numpy as np\n",
    "import torch\n",
    "import torch.nn as nn\n",
    "import torch.optim as optim\n",
    "\n",
    "from types import SimpleNamespace\n",
    "\n",
    "import matplotlib.pyplot as plt\n",
    "from models import MLP\n",
    "from dsp_utils import seg_time\n",
    "from plt_utils import plot_by_key,plot_segments\n",
    "\n",
    "from runners import Runner\n"
   ]
  },
  {
   "cell_type": "code",
   "execution_count": 2,
   "metadata": {
    "executionInfo": {
     "elapsed": 984,
     "status": "ok",
     "timestamp": 1729696413364,
     "user": {
      "displayName": "Alexander Rivkind",
      "userId": "10002507018830873377"
     },
     "user_tz": -180
    },
    "id": "ONM_K7ZuC_C1"
   },
   "outputs": [],
   "source": [
    "P0=0\n",
    "Pplus=2\n",
    "Pminus=-2\n",
    "Pchannel=np.nan\n",
    "\n",
    "T = 1500\n",
    "\n",
    "playlist = {\n",
    "'frogs': [(P0,T),((P0,Pplus),T),(P0,T)],\n",
    "'anti_frogs': [(P0,T),(Pplus,T),(P0,T)],\n",
    "'savings': 3 * [(P0, 500), (Pplus, 500)],\n",
    "'sprecovery': [(P0, 192),\n",
    "               (Pplus, 384),\n",
    "               (Pminus, 20),\n",
    "               (Pchannel, 400)],\n",
    "'spOVRrecovery': [(P0, 192),\n",
    "               (Pplus, 1000),\n",
    "               (Pminus, 20),\n",
    "               (Pchannel, 400)],\n",
    "'evrecovery': [(P0, 192),\n",
    "               (Pplus, 384),\n",
    "               (Pminus, 20),\n",
    "               (Pplus, 20),\n",
    "               (Pchannel, 400)],\n",
    "'lng_recovery': [(P0, 192),\n",
    "               (Pplus, 384),\n",
    "               (Pminus, 500),\n",
    "               (Pchannel, 400)]\n",
    "    }"
   ]
  },
  {
   "cell_type": "code",
   "execution_count": 3,
   "metadata": {},
   "outputs": [],
   "source": [
    "baseline_settings = {'criterion':'MSE', 'k':[2,0,4], 'learning_rate':4e-5, 'sigma_noi':0.0, 'tau_u':10}\n",
    "\n",
    "model_construct_args =  dict(n_inputs = 3,\n",
    "                  n_hidden = 512,\n",
    "                  n_outs = 1,\n",
    "                  nl = 'sigmoid',\n",
    "                    en_bias=False)\n",
    "test_vec= np.stack([np.linspace(-10,10,200), \n",
    "                    np.zeros(200),\n",
    "                    np.zeros(200)]).T"
   ]
  },
  {
   "cell_type": "code",
   "execution_count": 4,
   "metadata": {},
   "outputs": [
    {
     "name": "stdout",
     "output_type": "stream",
     "text": [
      "model reset\n"
     ]
    }
   ],
   "source": [
    "baseline_runner = Runner(model_construct_args=model_construct_args,\n",
    "                test_vec=test_vec,\n",
    "                **baseline_settings)"
   ]
  },
  {
   "cell_type": "code",
   "execution_count": null,
   "metadata": {},
   "outputs": [
    {
     "name": "stdout",
     "output_type": "stream",
     "text": [
      "running scenario: frogs\n",
      "running scenario: anti_frogs\n",
      "running scenario: savings\n"
     ]
    }
   ],
   "source": [
    "results = baseline_runner.run_multiple(playlist)"
   ]
  },
  {
   "cell_type": "code",
   "execution_count": null,
   "metadata": {
    "executionInfo": {
     "elapsed": 3,
     "status": "ok",
     "timestamp": 1729696807040,
     "user": {
      "displayName": "Alexander Rivkind",
      "userId": "10002507018830873377"
     },
     "user_tz": -180
    },
    "id": "d4cNKVvjTTUd"
   },
   "outputs": [],
   "source": [
    "def do_plots(results,playlist,figsize=(24, 6)):\n",
    "    plt.figure(figsize=figsize)\n",
    "    plt.subplot(1,3,1)\n",
    "    plot_segments(results['savings'].u_lp,\n",
    "              t_start=playlist['savings'][0][1],\n",
    "              n_segments=3,\n",
    "              t_increment=playlist['savings'][0][1]+playlist['savings'][1][1],\n",
    "              t_segment=playlist['savings'][1][1],             \n",
    "             )\n",
    "    plt.subplot(1,3,2)\n",
    "    plot_by_key(results, ['frogs','anti_frogs'],visu_offsets = [0, 0.03])\n",
    "    plt.xlabel('epochs')\n",
    "    plt.ylabel('u(epoch) [au]')\n",
    "    plt.subplot(1,3,3)\n",
    "    plot_by_key(results,\n",
    "                ['sprecovery','spOVRrecovery','lng_recovery','evrecovery'],\n",
    "                colors=['tab:red','tab:blue','tab:orange','tab:green'],\n",
    "                align_end=True,\n",
    "                visu_offsets=[0]*10,\n",
    "               )\n"
   ]
  },
  {
   "cell_type": "code",
   "execution_count": null,
   "metadata": {
    "colab": {
     "base_uri": "https://localhost:8080/",
     "height": 564
    },
    "executionInfo": {
     "elapsed": 8,
     "status": "ok",
     "timestamp": 1729696808155,
     "user": {
      "displayName": "Alexander Rivkind",
      "userId": "10002507018830873377"
     },
     "user_tz": -180
    },
    "id": "q0zQFwIYkqLK",
    "outputId": "143e46e0-a43c-46eb-f93e-8ad0987ba7bc"
   },
   "outputs": [],
   "source": [
    "do_plots(results,playlist)\n",
    "plt.subplot(1,3,1)\n",
    "plt.title(f'savings')\n",
    "plt.subplot(1,3,2)\n",
    "plt.title(f'abrupt/gradual')\n",
    "plt.subplot(1,3,3)\n",
    "plt.title(f'spontaneous/evoked recovery')\n",
    "plt.grid(True)\n",
    "plt.show()"
   ]
  },
  {
   "cell_type": "code",
   "execution_count": null,
   "metadata": {
    "colab": {
     "base_uri": "https://localhost:8080/",
     "height": 311
    },
    "executionInfo": {
     "elapsed": 1123,
     "status": "ok",
     "timestamp": 1729697075295,
     "user": {
      "displayName": "Alexander Rivkind",
      "userId": "10002507018830873377"
     },
     "user_tz": -180
    },
    "id": "wBf8ASJl3VZ6",
    "outputId": "8fff357d-4229-4fd0-bb5d-9f5db4a2c623"
   },
   "outputs": [],
   "source": [
    "plt.figure(figsize=(3, 3))\n",
    "foo = playlist['lng_recovery']\n",
    "tau = baseline_runner.tau_u\n",
    "test_sig = test_vec[:,0]\n",
    "t_vec_Plus = np.arange(seg_time(foo,1,'start'),seg_time(foo,1,'end'),10)\n",
    "t_vec_Pminus = np.arange(seg_time(foo,2,'start'),seg_time(foo,2,'end'),10)\n",
    "for p,t_vec in enumerate([t_vec_Plus, t_vec_Pminus]):\n",
    "  for i,t in enumerate(t_vec):\n",
    "    shade = 0.9 - float(i) /2/ len(t_vec)\n",
    "    plt.plot(test_sig, 1/tau*(results['lng_recovery'].test_output[t].squeeze()-test_sig),\n",
    "            color=[0,shade,0] if p==1 else [shade,shade,shade],\n",
    "            linewidth=2)\n",
    "    plt.ylim([-0.3,0.3])\n",
    "    plt.xlim([-5,5])\n",
    "    plt.yticks([0])\n",
    "plt.xlabel('motor output')\n",
    "plt.ylabel('drift velocity')\n",
    "plt.grid()\n",
    "\n"
   ]
  },
  {
   "cell_type": "code",
   "execution_count": null,
   "metadata": {},
   "outputs": [],
   "source": []
  }
 ],
 "metadata": {
  "accelerator": "GPU",
  "colab": {
   "authorship_tag": "ABX9TyO5YH1iC300IMOgPX5AQBGV",
   "gpuType": "L4",
   "machine_shape": "hm",
   "provenance": [
    {
     "file_id": "1K9Yp_QU1fwu5WigfPtqTYBwST-fydGrD",
     "timestamp": 1729694298886
    },
    {
     "file_id": "1sXHlF7j2RSb4-ZbcY0AtmwDIhsYYdzKP",
     "timestamp": 1729688246445
    },
    {
     "file_id": "1F4YwnHiy2zUvNkfRSpW0eAEb1TsXPzqW",
     "timestamp": 1729526683729
    },
    {
     "file_id": "1fvRTwlfXBy9ZVaZh1OZgwfw2qWvuG0zk",
     "timestamp": 1729514567145
    },
    {
     "file_id": "1gOPlIVyl2DIdmz0FgHPQF8k-Abm0y9M2",
     "timestamp": 1729446099556
    },
    {
     "file_id": "16KulXUCkIg-0lwihg0NnjJ83OPJaAi-6",
     "timestamp": 1729373011856
    },
    {
     "file_id": "1VLDnNO-BroeZhRAb1oshtOu2QiD5K-NR",
     "timestamp": 1729369960080
    },
    {
     "file_id": "1oZif11nCfrE2Zjc9K5K5a1nXxf1fN-CM",
     "timestamp": 1729367798990
    },
    {
     "file_id": "1RVVWtyW9Odh18e4DAAgGPfyjn1TpYoIv",
     "timestamp": 1729089851812
    },
    {
     "file_id": "1yB6gnnZbBR48VFzcj8HGpd90WraXxGZc",
     "timestamp": 1729089440659
    },
    {
     "file_id": "1MSTBs5TPRXKv9H9OZKWTJwfOp-pOczyC",
     "timestamp": 1729085768950
    },
    {
     "file_id": "18G3pU6LRmoGT17ZNtcQizDGxQSHWjGjf",
     "timestamp": 1729081864018
    },
    {
     "file_id": "1jKpXbyiLuS3Jl06Ch3HfLzSb5UjtH19l",
     "timestamp": 1729081013302
    },
    {
     "file_id": "1I1DZX1l51pLobbRr--6nWx7iIbncy1bT",
     "timestamp": 1729006548457
    },
    {
     "file_id": "1ojvKUWJAryb2769MlrOa9RRRvsxG1r6y",
     "timestamp": 1728909680764
    },
    {
     "file_id": "15JkV9okYMtvTdp8TKjVzVx57lR0dUdwD",
     "timestamp": 1728592718499
    },
    {
     "file_id": "1vR84bLxUv70s2kwd9U1vAZF-_yt5Zuce",
     "timestamp": 1728513316514
    },
    {
     "file_id": "1q8W_SLk1OxYmk1jLgKNgbUG49ti-1nkP",
     "timestamp": 1727113306590
    },
    {
     "file_id": "1AWJ_FrAlS2fX_mBeTozla2UybMSf1-Ba",
     "timestamp": 1726525408948
    },
    {
     "file_id": "1tK2z2O8U7U4zjih2CQGKdzWinj4h9KLw",
     "timestamp": 1726233256409
    },
    {
     "file_id": "1ugGvMO1uwvid4PtrkacHJekDmryYoKNE",
     "timestamp": 1726225644033
    },
    {
     "file_id": "1IxWzHdunAJBQI_H8iJCOCb4AFAgYWIyZ",
     "timestamp": 1726219170577
    },
    {
     "file_id": "1abVXbRzq9a9h9PzbmzpI-pySxb2OZqgm",
     "timestamp": 1721118285813
    }
   ]
  },
  "kernelspec": {
   "display_name": "Python 3 (ipykernel)",
   "language": "python",
   "name": "python3"
  },
  "language_info": {
   "codemirror_mode": {
    "name": "ipython",
    "version": 3
   },
   "file_extension": ".py",
   "mimetype": "text/x-python",
   "name": "python",
   "nbconvert_exporter": "python",
   "pygments_lexer": "ipython3",
   "version": "3.8.13"
  }
 },
 "nbformat": 4,
 "nbformat_minor": 1
}
